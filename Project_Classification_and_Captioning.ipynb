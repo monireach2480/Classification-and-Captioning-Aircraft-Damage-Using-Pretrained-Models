{
  "cells": [
    {
      "cell_type": "markdown",
      "metadata": {
        "id": "a09deab8-243d-4e10-af9d-b1490625a13c"
      },
      "source": [
        "# Final Project: Classification and Captioning Aircraft Damage Using Pretrained Models\n"
      ]
    },
    {
      "cell_type": "markdown",
      "metadata": {
        "id": "aca17f62-8229-4cb1-a757-1c69d980c0dd"
      },
      "source": [
        "Estimated time needed: **90** minutes\n"
      ]
    },
    {
      "cell_type": "markdown",
      "metadata": {
        "id": "6a16bdba-05a9-4ed7-a57c-10e5e90490ae"
      },
      "source": [
        "## **Introduction**\n",
        "\n",
        "In this project, you will classify aircraft damage using a pre-trained VGG16 model and generate captions using a Transformer-based pretrained model.\n",
        "\n",
        "## **Project Overview**\n",
        "\n",
        "Aircraft damage detection is essential for maintaining the safety and longevity of aircraft. Traditional manual inspection methods are time-consuming and prone to human error. This project aims to automate the classification of aircraft damage into two categories: \"dent\" and \"crack.\" For this, we will utilize feature extraction with a pre-trained VGG16 model to classify the damage from aircraft images. Additionally, we will use a pre-trained Transformer model to generate captions and summaries for the images.\n",
        "\n",
        "## **Aim of the Project**\n",
        "\n",
        "The goal of this project is to develop an automated model that accurately classifies aircraft damage from images. By the end of the project, you will have trained and evaluated a model that utilizes feature extraction from VGG16 for damage classification. This model will be applicable in real-world damage detection within the aviation industry. Furthermore, the project will showcase how we can use a Transformer-based model to caption and summarize images, providing a detailed description of the damage.\n",
        "\n",
        "## **Final Output**\n",
        "\n",
        "- A trained model capable of classifying aircraft images into \"dent\" and \"crack\" categories, enabling automated aircraft damage detection.\n",
        "- A Transformer-based model that generates captions and summaries of images\n"
      ]
    },
    {
      "cell_type": "markdown",
      "metadata": {
        "id": "2485c766-0ca8-4fe8-ac34-e273f710e31f"
      },
      "source": [
        "You will be using the [Aircraft dataset](https://cf-courses-data.s3.us.cloud-object-storage.appdomain.cloud/ZjXM4RKxlBK9__ZjHBLl5A/aircraft-damage-dataset-v1.tar).\n",
        "The dataset is taken from the here (Original Source): [Roboflow Aircraft Dataset](https://universe.roboflow.com/youssef-donia-fhktl/aircraft-damage-detection-1j9qk) Provided by a Roboflow user, License: CC BY 4.\n"
      ]
    },
    {
      "cell_type": "markdown",
      "metadata": {
        "id": "772587bf-7703-442b-92ce-19f0d2ec7727"
      },
      "source": [
        "<h2>Table of Contents</h2>\n",
        "\n",
        "<div class=\"alert alert-block alert-info\" style=\"margin-top: 20px\">\n",
        "    <p><font size=\"5\">Part 1 - Classification Problem: Classifying the defect on the aircraft as 'dent' or 'crack'</p>\n",
        "<font size=\"3\">\n",
        "        1. <a href=\"#1.1-Dataset-Preparation\">1.1 Dataset Preparation</a><br>\n",
        "        2. <a href=\"#1.2-Data-Preprocessing\">1.2 Data Preprocessing</a><br>\n",
        "        3. <a href=\"#1.3-Model-Definition\">1.3 Model Definition</a><br>\n",
        "        4. <a href=\"#1.4-Model-Training\">1.4 Model Training</a><br>\n",
        "        5. <a href=\"#1.5-Visualizing-Training-Results\">1.5 Visualizing Training Results</a><br>\n",
        "        6. <a href=\"#1.6-Model-Evaluation\">1.6 Model Evaluation</a><br>\n",
        "        7. <a href=\"#1.7-Visualizing-Predictions\">1.7 Visualizing Predictions</a><br>\n",
        "    <br>\n",
        "<p><font size=\"5\">Part 2: Image Captioning and Summarization using BLIP Pretrained Model</p>\n",
        "<font size=\"3\">\n",
        "        1. <a href=\"#2.1-Loading-BLIP-Model\">2.1 Loading BLIP Model</a><br>\n",
        "        2. <a href=\"#2.2-Generating-Captions-and-Summaries\">2.2 Generating Captions and Summaries</a><br>\n",
        "        <br>\n",
        "    \n"
      ]
    },
    {
      "cell_type": "markdown",
      "metadata": {
        "id": "785e99ac-0960-44a9-a98c-09a93a8e0cfb"
      },
      "source": [
        "# 1.1 Dataset-Preparation\n"
      ]
    },
    {
      "cell_type": "markdown",
      "metadata": {
        "id": "3666d9e5-90c4-4da7-a4ae-51c45a8203ea"
      },
      "source": [
        "## Objectives\n",
        "\n",
        "After you complete the project, you will be able to:\n",
        "\n",
        "- Use the VGG16 model for image classification.\n",
        "- Prepare and preprocess image data for a machine learning task.\n",
        "- Evaluate the model’s performance using appropriate metrics.\n",
        "- Visualize model predictions on test data.\n",
        "- Use a custom Keras layer.\n",
        "\n",
        "\n",
        " ### Task List\n",
        "To achieve the above objectives, you will complete the following tasks:\n",
        "\n",
        "- Task 1: Create a `valid_generator` using the `valid_datagen` object\n",
        "- Task 2: Create a `test_generator` using the `test_datagen` object\n",
        "- Task 3: Load the VGG16 model\n",
        "- Task 4: Compile the model\n",
        "- Task 5: Train the model\n",
        "- Task 6: Plot accuracy curves for training and validation sets\n",
        "- Task 7: Visualizing the results\n",
        "- Task 8: Implement a Helper Function to Use the Custom Keras Layer\n",
        "- Task 9: Generate a caption for an image using the using BLIP pretrained model\n",
        "- Task 10: Generate a summary of an image using BLIP pretrained model\n",
        "\n",
        "**Note**:.<br>\n",
        "1. For each task, copy and save the code or output as mentioned in the task for final grading.<br>\n",
        "2. Download the file after completion of the final project.The file should have both code and output.This will be used for final grading.\n"
      ]
    },
    {
      "cell_type": "markdown",
      "metadata": {
        "id": "3e125355-045d-4f89-bebe-1cee4f6bf482"
      },
      "source": [
        "## Setup\n"
      ]
    },
    {
      "cell_type": "code",
      "metadata": {
        "id": "5be021e3-88e2-44bd-b8de-903addc83271"
      },
      "outputs": [],
      "source": [
        "import warnings\n",
        "warnings.filterwarnings('ignore')"
      ],
      "execution_count": 1
    },
    {
      "cell_type": "markdown",
      "metadata": {
        "id": "1c9d5d8a-3f95-4335-a719-30d2bed1e3ea"
      },
      "source": [
        "### Installing Required Libraries\n"
      ]
    },
    {
      "cell_type": "markdown",
      "metadata": {
        "id": "77d37302-42f9-47e7-bef8-0fdada0f35f4"
      },
      "source": [
        "The following required libraries are __not__ pre-installed in the Skills Network Labs environment. __You will need to run the following cell__ to install them:\n"
      ]
    },
    {
      "cell_type": "code",
      "metadata": {
        "id": "b8104fcc-fdfd-445e-a919-862c1d63c66a",
        "colab": {
          "base_uri": "https://localhost:8080/"
        },
        "outputId": "85899f66-e853-4ed6-90eb-a710bf004a2b"
      },
      "outputs": [
        {
          "output_type": "stream",
          "name": "stdout",
          "text": [
            "Requirement already satisfied: ml-dtypes in /usr/local/lib/python3.12/dist-packages (0.5.3)\n",
            "Requirement already satisfied: numpy>=1.21 in /usr/local/lib/python3.12/dist-packages (from ml-dtypes) (2.0.2)\n"
          ]
        }
      ],
      "source": [
        "# !pip install pandas==2.2.3\n",
        "# !pip install tensorflow==2.17.1\n",
        "# !pip install pillow==11.1.0\n",
        "# !pip install matplotlib==3.9.2\n",
        "# !pip install transformers==4.38.2\n",
        "# !pip install torch keras\n",
        "!pip install --upgrade ml-dtypes"
      ],
      "execution_count": 2
    },
    {
      "cell_type": "markdown",
      "metadata": {
        "id": "26406dd5-ccf2-4e33-9a0e-244d9fd8343b"
      },
      "source": [
        "#### Suppress the tensorflow warning messages\n",
        "We use the following code to  suppress the warning messages due to use of CPU architechture for tensoflow.\n",
        "\n",
        "You may want to **comment out** these lines if you are using the GPU architechture\n"
      ]
    },
    {
      "cell_type": "code",
      "metadata": {
        "id": "98112db6-d4b6-4c69-b348-3f4fc534867d"
      },
      "outputs": [],
      "source": [
        "import os\n",
        "os.environ['TF_ENABLE_ONEDNN_OPTS'] = '0'\n",
        "os.environ['TF_CPP_MIN_LOG_LEVEL'] = '2'"
      ],
      "execution_count": 3
    },
    {
      "cell_type": "markdown",
      "metadata": {
        "id": "307729e8-8a3d-4196-be2d-61f542234332"
      },
      "source": [
        "### Importing Required Libraries\n"
      ]
    },
    {
      "cell_type": "code",
      "metadata": {
        "id": "e13bcd0f-c9e8-4919-9537-b879bb99489b"
      },
      "outputs": [],
      "source": [
        "import zipfile\n",
        "import keras\n",
        "from keras.models import Sequential, Model\n",
        "from keras.layers import Dense, Dropout, Flatten\n",
        "from keras.applications import VGG16\n",
        "from keras.optimizers import Adam\n",
        "import tensorflow as tf\n",
        "from tensorflow.keras.preprocessing.image import ImageDataGenerator\n",
        "import matplotlib.pyplot as plt\n",
        "import numpy as np\n",
        "from keras.preprocessing import image\n",
        "import random"
      ],
      "execution_count": 4
    },
    {
      "cell_type": "code",
      "metadata": {
        "id": "cb41ca5e-c55b-4f14-94f7-0e8ab508ecd9"
      },
      "outputs": [],
      "source": [
        "# Set seed for reproducibility\n",
        "seed_value = 42\n",
        "random.seed(seed_value)\n",
        "np.random.seed(seed_value)\n",
        "tf.random.set_seed(seed_value)"
      ],
      "execution_count": 5
    },
    {
      "cell_type": "markdown",
      "metadata": {
        "id": "1b0eeb8b-7366-4312-b170-4b33be9922cc"
      },
      "source": [
        "#### Pretrained Model\n",
        "\n",
        "A pretrained model refers to a machine learning model that has already been trained on a large dataset, typically for a specific task, and is ready for use or fine-tuning on a new task or dataset. The key idea behind a pretrained model is that it has already learned useful patterns or features from the data it was trained on, so you don’t need to start from scratch.\n",
        "\n",
        "- **ResNet, VGG (Image Classification):** These are pretrained models commonly used for image classification tasks. They have learned from millions of images and can be fine-tuned for specific image-related tasks.\n",
        "\n",
        "- **BLIP (Image Captioning and Summarization):** BLIP is a pretrained model that can generate captions and summaries for images. It has already been trained on image-text pairs, so it can easily generate descriptive captions for new images.\n"
      ]
    },
    {
      "cell_type": "markdown",
      "metadata": {
        "id": "d68e2c8a-72cc-453e-b2d6-897310515e06"
      },
      "source": [
        "## <a id='toc1_'> </a> [Part 1 - Classification Problem: Classifying the defect on the aircraft as 'dent' or 'crack'](#toc1_)\n",
        "\n",
        "### <a id='toc1_1_'></a> [1.1 Dataset Preparation](#toc1_)\n",
        "\n",
        "The first step is to load and prepare the dataset of aircraft images. These images are labeled either as 'dent' or 'crack'. We will also split the dataset into training, validation, and test sets.\n",
        "\n",
        "Your goal is to train an algorithm on these images and to predict the labels for images in your test set.\n",
        "\n",
        "\n"
      ]
    },
    {
      "cell_type": "markdown",
      "metadata": {
        "id": "40069677-2a92-44eb-aef7-1f87dae5e51e"
      },
      "source": [
        "**Define configuration options**\n",
        "\n",
        "It's time to define some model configuration options.\n",
        "\n",
        "*  Set the **batch size** is set to 32.\n",
        "*  Set the **number of epcohs** is 5.\n"
      ]
    },
    {
      "cell_type": "code",
      "metadata": {
        "id": "c19c43ef-8ce1-4b88-abda-e9cdf7317467"
      },
      "outputs": [],
      "source": [
        "#Set the batch size,epochs\n",
        "batch_size = 32\n",
        "n_epochs = 5\n",
        "img_rows, img_cols = 224, 224\n",
        "input_shape = (img_rows, img_cols, 3)"
      ],
      "execution_count": 7
    },
    {
      "cell_type": "markdown",
      "metadata": {
        "id": "81b68bba-365b-403d-accc-ce29931f2a98"
      },
      "source": [
        "Extract the Dataset:\n",
        "Unzip the dataset to the current directory, creating directories for training, testing, and validation splits.\n"
      ]
    },
    {
      "cell_type": "code",
      "metadata": {
        "id": "8ad77074-bd80-4bd3-9f57-d5e386b03713",
        "colab": {
          "base_uri": "https://localhost:8080/"
        },
        "outputId": "3c9ff0b0-afd4-4ab9-ed11-081775e8491e"
      },
      "outputs": [
        {
          "output_type": "stream",
          "name": "stdout",
          "text": [
            "Downloaded aircraft_damage_dataset_v1.tar. Extraction will begin now.\n",
            "Extracted aircraft_damage_dataset_v1.tar successfully.\n"
          ]
        }
      ],
      "source": [
        "import tarfile\n",
        "import urllib.request\n",
        "import os\n",
        "import shutil\n",
        "\n",
        "# URL of the tar file\n",
        "url = \"https://cf-courses-data.s3.us.cloud-object-storage.appdomain.cloud/ZjXM4RKxlBK9__ZjHBLl5A/aircraft-damage-dataset-v1.tar\"\n",
        "\n",
        "# Define the path to save the file\n",
        "tar_filename = \"aircraft_damage_dataset_v1.tar\"\n",
        "extracted_folder = \"aircraft_damage_dataset_v1\"  # Folder where contents will be extracted\n",
        "\n",
        "# Download the tar file\n",
        "urllib.request.urlretrieve(url, tar_filename)\n",
        "print(f\"Downloaded {tar_filename}. Extraction will begin now.\")\n",
        "\n",
        "# Check if the folder already exists\n",
        "if os.path.exists(extracted_folder):\n",
        "    print(f\"The folder '{extracted_folder}' already exists. Removing the existing folder.\")\n",
        "\n",
        "    # Remove the existing folder to avoid overwriting or duplication\n",
        "    shutil.rmtree(extracted_folder)\n",
        "    print(f\"Removed the existing folder: {extracted_folder}\")\n",
        "\n",
        "# Extract the contents of the tar file\n",
        "with tarfile.open(tar_filename, \"r\") as tar_ref:\n",
        "    tar_ref.extractall()  # This will extract to the current directory\n",
        "    print(f\"Extracted {tar_filename} successfully.\")\n"
      ],
      "execution_count": 8
    },
    {
      "cell_type": "markdown",
      "metadata": {
        "id": "fd20c128-0937-4922-a79d-c8e8baed7e2a"
      },
      "source": [
        "The folder structure looks as follows:\n",
        "\n",
        "```python\n",
        "aircraft_damage_dataset_v1/\n",
        "├── train/\n",
        "│   ├── dent/\n",
        "│   └── crack/\n",
        "├── valid/\n",
        "│   ├── dent/\n",
        "│   └── crack/\n",
        "└── test/\n",
        "    ├── dent/\n",
        "    └── crack/\n",
        "\n",
        "```\n",
        "\n"
      ]
    },
    {
      "cell_type": "code",
      "metadata": {
        "id": "1d931d76-5f78-4dd1-aaa8-6ec9c0ba1219"
      },
      "outputs": [],
      "source": [
        "# Define directories for train, test, and validation splits\n",
        "extract_path = \"aircraft_damage_dataset_v1\"\n",
        "train_dir = os.path.join(extract_path, 'train')\n",
        "test_dir = os.path.join(extract_path, 'test')\n",
        "valid_dir = os.path.join(extract_path, 'valid')"
      ],
      "execution_count": 9
    },
    {
      "cell_type": "markdown",
      "metadata": {
        "id": "8d2e6f35-a2ba-4716-8ffe-e8965c31df98"
      },
      "source": [
        "## 1.2 Data Preprocessing\n",
        "\n",
        "Create data generators for training, validation, and testing datasets.\n",
        "\n",
        "First,we will create ImageDataGenerators used for training, validation and testing.\n",
        "The ImageDataGenerator class is part of Keras. It is a powerful utility for real-time image data augmentation, preprocessing, and feeding data into deep learning models during training. This class is particularly useful when working with image datasets that are too large to fit into memory all at once, or when you want to augment your dataset  to improve model generalization.\n",
        "\n",
        "We will create instances of the ImageDataGenerator class. Each instance corresponds to one of the datasets: training, validation, and testing.\n"
      ]
    },
    {
      "cell_type": "code",
      "metadata": {
        "id": "bdb8eb4c-8ec0-4dca-bbb0-27846f005e15"
      },
      "outputs": [],
      "source": [
        "# Create ImageDataGenerators to preprocess the data\n",
        "train_datagen = ImageDataGenerator(rescale=1./255)\n",
        "valid_datagen = ImageDataGenerator(rescale=1./255)\n",
        "test_datagen = ImageDataGenerator(rescale=1./255)"
      ],
      "execution_count": 10
    },
    {
      "cell_type": "markdown",
      "metadata": {
        "id": "b951e3e5-1104-402e-b954-25c53ceb3f12"
      },
      "source": [
        "Next, we use flow_from_directory() method to load the images from directory and generate the training dataset. The flow_from_directory() method is part of the ImageDataGenerator class in Keras, and it plays a crucial role in automating the process of loading, preprocessing, and batching images for training, validation, and testing.\n",
        "We use the train_datagen object to load and preprocess the training images. Specifically, the flow_from_directory() function is used to read images directly from the directory and generate batches of data that will be fed into the model for training.\n"
      ]
    },
    {
      "cell_type": "code",
      "metadata": {
        "id": "deb9eba3-f4cf-408a-83f2-0557d890c85b",
        "colab": {
          "base_uri": "https://localhost:8080/"
        },
        "outputId": "36f8a2a1-957c-4215-dc8e-5e206479401d"
      },
      "outputs": [
        {
          "output_type": "stream",
          "name": "stdout",
          "text": [
            "Found 300 images belonging to 2 classes.\n"
          ]
        }
      ],
      "source": [
        "train_generator = train_datagen.flow_from_directory(\n",
        "    train_dir,\n",
        "    target_size=(img_rows, img_cols),   # Resize images to the size VGG16 expects\n",
        "    batch_size=batch_size,\n",
        "    seed = seed_value,\n",
        "    class_mode='binary',\n",
        "    shuffle=True # Binary classification: dent vs crack\n",
        ")"
      ],
      "execution_count": 11
    },
    {
      "cell_type": "markdown",
      "metadata": {
        "id": "9eb4df51-0e7a-4a61-bac6-a88c14fb4ac1"
      },
      "source": [
        "## **Task 1: Create a `valid_generator` using the `valid_datagen` object**\n",
        "\n",
        "\n",
        "Please use the following parameters:\n",
        "\n",
        "*   **directory** should be set to `valid_dir`.\n",
        "*   **class_mode** should be set to `'binary'`.\n",
        "*   **seed** should be set to `seed_value`.\n",
        "*   **batch_size** should be set to `batch_size`.\n",
        "*   **shuffle** should be set to `False`.\n",
        "*   **target_size** should be set to `(img_rows, img_cols)`.\n",
        "\n",
        "Hint: the format should be like:\n",
        "\n",
        "```python\n",
        "valid_generator =  valid_datagen.flow_from_directory(\n",
        "    directory=,\n",
        "    class_mode=,\n",
        "    seed=,\n",
        "    batch_size=,\n",
        "    shuffle=,\n",
        "    target_size=\n",
        ")\n",
        "```\n",
        "**Note: Please copy and save the code of the task as it will be required for submission in the final project. Ensure to submit the response as part of your project submission**\n"
      ]
    },
    {
      "cell_type": "code",
      "metadata": {
        "id": "c669ff97-1604-4412-8cdb-2bab25096dac",
        "colab": {
          "base_uri": "https://localhost:8080/"
        },
        "outputId": "1af12c56-0980-46a2-b4e6-96ea56f3308c"
      },
      "outputs": [
        {
          "output_type": "stream",
          "name": "stdout",
          "text": [
            "Found 96 images belonging to 2 classes.\n"
          ]
        }
      ],
      "source": [
        "#Write your code here\n",
        "valid_generator = valid_datagen.flow_from_directory(\n",
        "    valid_dir,\n",
        "    target_size=(img_rows, img_cols),   # Resize images to the size VGG16 expects\n",
        "    batch_size=batch_size,\n",
        "    seed = seed_value,\n",
        "    class_mode='binary',\n",
        "    shuffle=True # Binary classification: dent vs crack\n",
        ")"
      ],
      "execution_count": 12
    },
    {
      "cell_type": "markdown",
      "metadata": {
        "id": "12688259-711b-483e-902b-8ef24eb646bd"
      },
      "source": [
        "## **Task 2: Create a `test_generator` using the `test_datagen` object**\n",
        "\n",
        "Please use the following parameters:\n",
        "\n",
        "*   **directory** should be set to `test_dir`.\n",
        "*   **class_mode** should be set to `'binary'`.\n",
        "*   **seed** should be set to `seed_value`.\n",
        "*   **batch_size** should be set to `batch_size`.\n",
        "*   **shuffle** should be set to `False`.\n",
        "*   **target_size** should be set to `(img_rows, img_cols)`.\n",
        "\n",
        "Hint: The format should be like:\n",
        "\n",
        "```python\n",
        "test_generator = test_datagen.flow_from_directory(\n",
        "    directory=,\n",
        "    class_mode=,\n",
        "    seed=,\n",
        "    batch_size=,\n",
        "    shuffle=,\n",
        "    target_size=\n",
        ")\n",
        "```\n",
        "**Note: Please copy and save the code of the task as it will be required for submission in the final project. Ensure to submit the response as part of your project submission**\n"
      ]
    },
    {
      "cell_type": "code",
      "metadata": {
        "id": "26b5607a-d6c8-441b-9bfa-49b198b40599",
        "colab": {
          "base_uri": "https://localhost:8080/"
        },
        "outputId": "bf28bfdb-0051-4cc9-fdfc-95d64d384752"
      },
      "outputs": [
        {
          "output_type": "stream",
          "name": "stdout",
          "text": [
            "Found 50 images belonging to 2 classes.\n"
          ]
        }
      ],
      "source": [
        "#Write your code here\n",
        "test_generator = test_datagen.flow_from_directory(\n",
        "    test_dir,\n",
        "    target_size=(img_rows, img_cols),   # Resize images to the size VGG16 expects\n",
        "    batch_size=batch_size,\n",
        "    seed = seed_value,\n",
        "    class_mode='binary',\n",
        "    shuffle=True # Binary classification: dent vs crack\n",
        ")"
      ],
      "execution_count": 13
    },
    {
      "cell_type": "markdown",
      "metadata": {
        "id": "f1ebb5a9-ff79-4438-a93c-8c2199a0f5df"
      },
      "source": [
        "## 1.3 Model Definition\n",
        "\n",
        "Here, we define the model architecture by using a pre-trained VGG16 model as the base, adding custom layers on top for binary classification of 'dent' and 'crack' types of damage.\n"
      ]
    },
    {
      "cell_type": "markdown",
      "metadata": {
        "id": "7a222bc8-6577-4cf6-9916-eb595d0b88ef"
      },
      "source": [
        "## **Task 3: Load the pre-trained model VGG16**\n",
        "\n",
        "Set <code>weights='imagenet'</code>,<code>include_top=False</code>,<code>input_shape=(img_rows, img_cols, 3)</code>\n",
        "\n",
        "Hint: The format should be like:\n",
        "\n",
        "base_model = VGG16(weights= , include_top= , input_shape=)\n",
        "\n",
        "****Note: Please copy and save the code of the task as it will be required for submission in the final project. Ensure to submit the response as part of your project submission****\n"
      ]
    },
    {
      "cell_type": "code",
      "metadata": {
        "id": "54a3b4dd-1bd2-4d28-a76e-41a36fb4bd5c",
        "colab": {
          "base_uri": "https://localhost:8080/"
        },
        "outputId": "1ca0bdcf-b140-49b9-8ce0-cb95725ad238"
      },
      "outputs": [
        {
          "output_type": "stream",
          "name": "stdout",
          "text": [
            "Downloading data from https://storage.googleapis.com/tensorflow/keras-applications/vgg16/vgg16_weights_tf_dim_ordering_tf_kernels_notop.h5\n",
            "\u001b[1m58889256/58889256\u001b[0m \u001b[32m━━━━━━━━━━━━━━━━━━━━\u001b[0m\u001b[37m\u001b[0m \u001b[1m4s\u001b[0m 0us/step\n"
          ]
        }
      ],
      "source": [
        "#Write your code here\n",
        "base_model = VGG16(weights= 'imagenet', include_top=False , input_shape=(img_rows, img_cols, 3))"
      ],
      "execution_count": 14
    },
    {
      "cell_type": "markdown",
      "metadata": {
        "id": "97c1cb80-6954-4445-8670-9d106bdcd425"
      },
      "source": [
        "Now, we modify the VGG16 model for our specific classification task. We extract the output from the last layer of the pre-trained VGG16 model, and then create a new model with this modified output. Then we will freeze the base VGG16 model layers so that their weights will not be updated during training.\n"
      ]
    },
    {
      "cell_type": "code",
      "metadata": {
        "id": "8a6b0c9e-c584-4ed8-90c3-ad57e3f2bb96"
      },
      "outputs": [],
      "source": [
        "output = base_model.layers[-1].output\n",
        "output = keras.layers.Flatten()(output)\n",
        "base_model = Model(base_model.input, output)\n",
        "\n",
        "# Freeze the base VGG16 model layers\n",
        "for layer in base_model.layers:\n",
        "    layer.trainable = False"
      ],
      "execution_count": 15
    },
    {
      "cell_type": "markdown",
      "metadata": {
        "id": "a838dcb5-d828-48f1-a986-4bc2f6c0d3a7"
      },
      "source": [
        "After using VGG16 as a feature extractor, we add our own classifier on top of the VGG16 model. This involves adding fully connected layers (Dense), activation functions (like ReLU), and sometimes Dropout layers to avoid overfitting.\n",
        "Here, we are adding two dense layers with 512 units each, followed by a Dropout layer, and finally, a Dense layer with one unit and a sigmoid activation to output the probability for binary classification (\"dent\" vs \"crack\").\n"
      ]
    },
    {
      "cell_type": "code",
      "metadata": {
        "id": "1595d892-cd4d-4bd5-8c6c-fde357109ca3"
      },
      "outputs": [],
      "source": [
        "# Build the custom model\n",
        "model = Sequential()\n",
        "model.add(base_model)\n",
        "model.add(Dense(512, activation='relu'))\n",
        "model.add(Dropout(0.3))\n",
        "model.add(Dense(512, activation='relu'))\n",
        "model.add(Dropout(0.3))\n",
        "model.add(Dense(1, activation='sigmoid'))"
      ],
      "execution_count": 16
    },
    {
      "cell_type": "markdown",
      "metadata": {
        "id": "84be70fc-927d-4d54-be54-7815de465019"
      },
      "source": [
        "## **Task 4: Compile the model**\n",
        "\n",
        "You will compile the model using the following parameters:\n",
        "\n",
        "*   **loss**: `'binary_crossentropy'`.\n",
        "*   **optimizer**: `=Adam(learning_rate=0.0001)`.\n",
        "*   **metrics**: `['accuracy']`.\n",
        "\n",
        "Hint: Use `model.compile()` to compile the model:\n",
        "    \n",
        "```python\n",
        "model.compile(\n",
        "    optimizer=,\n",
        "    loss=,\n",
        "    metrics=\n",
        ")\n",
        "```\n",
        "**Note: Please copy and save the code of the task as it will be required for submission in the final project. Ensure to submit the response as part of your project submission.**\n"
      ]
    },
    {
      "cell_type": "code",
      "metadata": {
        "id": "4440126c-b8e1-4489-9174-a8c0991ab789"
      },
      "outputs": [],
      "source": [
        "# Write your code here\n",
        "model.compile(optimizer=Adam(learning_rate=0.0001), loss='binary_crossentropy', metrics=['accuracy'])"
      ],
      "execution_count": 17
    },
    {
      "cell_type": "markdown",
      "metadata": {
        "id": "261b34d3-108b-44f2-86a9-35ec3be592f1"
      },
      "source": [
        "## 1.4 Model Training\n",
        "\n",
        "- This section covers the process of training the model using the prepared dataset.\n"
      ]
    },
    {
      "cell_type": "markdown",
      "metadata": {
        "id": "dc453c5a-ba70-4157-9d86-f5dcc9fb3cae"
      },
      "source": [
        "## Task 5: Model Training\n",
        "Now that the model is compiled, you can train it using the .fit() method. This step involves passing in the training and validation datasets along with the number of epochs you want to train the model for.\n",
        "\n",
        "You will train the model using the following parameters:\n",
        "\n",
        "*   **train_data**: `train_generator`\n",
        "*   **epochs**: `n_epochs`\n",
        "*   **validation_data**: `valid_generator`\n",
        "\n",
        "Hint: Use `model.fit()` to train the model:\n",
        "    \n",
        "```python\n",
        "history = model.fit(\n",
        "    <train_data>,  # Fill in with the training data generator or dataset\n",
        "    epochs=<number_of_epochs>,  # Fill in with the number of epochs for training\n",
        "    validation_data=<validation_data>,  # Fill in with the validation data generator or dataset\n",
        "   \n",
        ")\n",
        "\n",
        "```\n",
        "**Note: Please copy and save the code of the task as it will be required for submission in the final project. Ensure to submit the response as part of your project submission**\n"
      ]
    },
    {
      "cell_type": "code",
      "metadata": {
        "id": "728621b8-ccd3-4dab-8574-126693f4ea96",
        "colab": {
          "base_uri": "https://localhost:8080/"
        },
        "outputId": "b4295ab0-cb89-4391-c018-4e613acad55e"
      },
      "outputs": [
        {
          "output_type": "stream",
          "name": "stdout",
          "text": [
            "Epoch 1/5\n",
            "\u001b[1m10/10\u001b[0m \u001b[32m━━━━━━━━━━━━━━━━━━━━\u001b[0m\u001b[37m\u001b[0m \u001b[1m28s\u001b[0m 1s/step - accuracy: 0.4879 - loss: 0.7515 - val_accuracy: 0.5938 - val_loss: 0.6335\n",
            "Epoch 2/5\n",
            "\u001b[1m10/10\u001b[0m \u001b[32m━━━━━━━━━━━━━━━━━━━━\u001b[0m\u001b[37m\u001b[0m \u001b[1m2s\u001b[0m 205ms/step - accuracy: 0.6958 - loss: 0.5540 - val_accuracy: 0.6771 - val_loss: 0.5771\n",
            "Epoch 3/5\n",
            "\u001b[1m10/10\u001b[0m \u001b[32m━━━━━━━━━━━━━━━━━━━━\u001b[0m\u001b[37m\u001b[0m \u001b[1m2s\u001b[0m 215ms/step - accuracy: 0.7314 - loss: 0.4966 - val_accuracy: 0.6979 - val_loss: 0.5429\n",
            "Epoch 4/5\n",
            "\u001b[1m10/10\u001b[0m \u001b[32m━━━━━━━━━━━━━━━━━━━━\u001b[0m\u001b[37m\u001b[0m \u001b[1m2s\u001b[0m 205ms/step - accuracy: 0.8187 - loss: 0.3778 - val_accuracy: 0.6771 - val_loss: 0.5874\n",
            "Epoch 5/5\n",
            "\u001b[1m10/10\u001b[0m \u001b[32m━━━━━━━━━━━━━━━━━━━━\u001b[0m\u001b[37m\u001b[0m \u001b[1m2s\u001b[0m 204ms/step - accuracy: 0.8060 - loss: 0.3770 - val_accuracy: 0.7292 - val_loss: 0.4732\n"
          ]
        },
        {
          "output_type": "execute_result",
          "data": {
            "text/plain": [
              "<keras.src.callbacks.history.History at 0x7d4e56523350>"
            ]
          },
          "metadata": {},
          "execution_count": 18
        }
      ],
      "source": [
        "#Enter your code here\n",
        "model.fit(train_generator, epochs=n_epochs, validation_data=valid_generator)"
      ],
      "execution_count": 18
    },
    {
      "cell_type": "code",
      "metadata": {
        "id": "7fe9e973-811a-4562-9c6a-c6ee9f7657ff"
      },
      "outputs": [],
      "source": [
        "# Access the training history\n",
        "train_history = model.history.history  # After training"
      ],
      "execution_count": 19
    },
    {
      "cell_type": "markdown",
      "metadata": {
        "id": "9c44fbdf-ebde-4004-ab51-2627e3c387bf"
      },
      "source": [
        "## 1.5 Visualizing Training Results\n",
        "\n",
        "- After training the model, we visualize the training and validation accuracy and loss to understand the model's learning process.\n"
      ]
    },
    {
      "cell_type": "markdown",
      "metadata": {
        "id": "7f6e2221-7fc9-4ed9-843d-622b81fe88a1"
      },
      "source": [
        "### Plot loss curves for training and validation sets\n"
      ]
    },
    {
      "cell_type": "code",
      "metadata": {
        "id": "e6aecdf4-b6fc-415b-89f6-1922710d93fd",
        "colab": {
          "base_uri": "https://localhost:8080/",
          "height": 927
        },
        "outputId": "d4f9f36c-58d3-4282-a9bb-81bb77f008e1"
      },
      "outputs": [
        {
          "output_type": "display_data",
          "data": {
            "text/plain": [
              "<Figure size 640x480 with 1 Axes>"
            ],
            "image/png": "[encoded data removed]"
          },
          "metadata": {}
        },
        {
          "output_type": "display_data",
          "data": {
            "text/plain": [
              "<Figure size 640x480 with 1 Axes>"
            ],
            "image/png": "[encoded data removed]"
          },
          "metadata": {}
        }
      ],
      "source": [
        "# Plot the loss for both training and validation\n",
        "plt.title(\"Training Loss\")\n",
        "plt.ylabel(\"Loss\")\n",
        "plt.xlabel('Epoch')\n",
        "plt.plot(train_history['loss'])\n",
        "plt.show()\n",
        "\n",
        "plt.title(\"Validation Loss\")\n",
        "plt.ylabel(\"Loss\")\n",
        "plt.xlabel('Epoch')\n",
        "plt.plot(train_history['val_loss'])\n",
        "plt.show()"
      ],
      "execution_count": 20
    },
    {
      "cell_type": "markdown",
      "metadata": {
        "id": "b907a3db-8230-4b86-a659-8fe75593a55e"
      },
      "source": [
        "## Task 6: Plot accuracy curves for training and validation sets\n",
        "\n",
        "Hint: Similar to the loss curves. Use `plt.plot()` to plot the accuracy curves for training and validation sets.\n",
        "\n",
        "- `figsize=(5, 5)`\n",
        "- `plt.plot(train_history['accuracy'], label='Training Accuracy')`\n",
        "- `plt.plot(train_history['val_accuracy'], label='Validation Accuracy')`\n",
        "- **Title**: `'Accuracy Curve'`\n",
        "- **xlabel**: `'Epochs'`\n",
        "- **ylabel**: `'Accuracy'`\n",
        "\n",
        "**Note: Please copy and save the code of the task as it will be required for submission in the final project. Ensure to submit the response as part of your project submission**\n"
      ]
    },
    {
      "cell_type": "code",
      "metadata": {
        "id": "524d380e-ce6b-476b-b55f-52f77df55c9c",
        "colab": {
          "base_uri": "https://localhost:8080/",
          "height": 927
        },
        "outputId": "803d090e-a476-4067-c8e4-0ce8ec6bfac6"
      },
      "outputs": [
        {
          "output_type": "display_data",
          "data": {
            "text/plain": [
              "<Figure size 640x480 with 1 Axes>"
            ],
            "image/png": "[encoded data removed]"
          },
          "metadata": {}
        },
        {
          "output_type": "display_data",
          "data": {
            "text/plain": [
              "<Figure size 640x480 with 1 Axes>"
            ],
            "image/png": "[encoded data removed]"
          },
          "metadata": {}
        }
      ],
      "source": [
        "# Write your code here\n",
        "plt.title(\"Training Accuracy\")\n",
        "plt.ylabel(\"Accuracy\")\n",
        "plt.xlabel('Epochs')\n",
        "plt.plot(train_history['accuracy'])\n",
        "plt.show()\n",
        "\n",
        "plt.title(\"Validation Accuracy\")\n",
        "plt.ylabel(\"Accuracy\")\n",
        "plt.xlabel('Epochs')\n",
        "plt.plot(train_history['val_accuracy'])\n",
        "plt.show()"
      ],
      "execution_count": 21
    },
    {
      "cell_type": "markdown",
      "metadata": {
        "id": "7ca5e4ca-38d3-4125-a4dc-79a9603d6bad"
      },
      "source": [
        "## 1.6 Model Evaluation\n",
        "\n",
        "Now we evaluate the trained model on the test dataset. Calculates test loss and accuracy by evaluating the test generator. Predictions are made for the test dataset, and the results are compared to true labels.\n"
      ]
    },
    {
      "cell_type": "code",
      "metadata": {
        "id": "e88aed4f-ef8d-491d-b70d-1363c74f5f24",
        "colab": {
          "base_uri": "https://localhost:8080/"
        },
        "outputId": "d5d22edf-6679-45c7-97d0-d0450d1f1175"
      },
      "outputs": [
        {
          "output_type": "stream",
          "name": "stdout",
          "text": [
            "\u001b[1m1/1\u001b[0m \u001b[32m━━━━━━━━━━━━━━━━━━━━\u001b[0m\u001b[37m\u001b[0m \u001b[1m0s\u001b[0m 325ms/step - accuracy: 0.8438 - loss: 0.5380\n",
            "Test Loss: 0.5380\n",
            "Test Accuracy: 0.8438\n"
          ]
        }
      ],
      "source": [
        "# Evaluate the model on the test set\n",
        "test_loss, test_accuracy = model.evaluate(test_generator, steps=test_generator.samples // test_generator.batch_size)\n",
        "\n",
        "print(f\"Test Loss: {test_loss:.4f}\")\n",
        "print(f\"Test Accuracy: {test_accuracy:.4f}\")"
      ],
      "execution_count": 22
    },
    {
      "cell_type": "markdown",
      "metadata": {
        "id": "c5ac9629-4c5d-4722-a38a-54f1aa8ddcdb"
      },
      "source": [
        " ## 1.7 Visualizing Predictions\n",
        "\n",
        "Display test images alongside their true and predicted labels.\n",
        "\n",
        "True labels and predictions are retrieved.\n",
        "Images are displayed with labels for visual inspection of model performance.\n"
      ]
    },
    {
      "cell_type": "code",
      "metadata": {
        "id": "8146c1de-d2a7-4349-a165-d1e54020f247"
      },
      "outputs": [],
      "source": [
        "import numpy as np\n",
        "import matplotlib.pyplot as plt\n",
        "from tensorflow.keras.preprocessing import image\n",
        "\n",
        "# Function to plot a single image and its prediction\n",
        "def plot_image_with_title(image, model, true_label, predicted_label, class_names):\n",
        "    plt.figure(figsize=(6, 6))\n",
        "    plt.imshow(image)\n",
        "\n",
        "    # Convert labels from one-hot to class indices if needed, but for binary labels it's just 0 or 1\n",
        "    true_label_name = class_names[true_label]  # Labels are already in class indices\n",
        "    pred_label_name = class_names[predicted_label]  # Predictions are 0 or 1\n",
        "\n",
        "    plt.title(f\"True: {true_label_name}\\nPred: {pred_label_name}\")\n",
        "    plt.axis('off')\n",
        "    plt.show()\n",
        "\n",
        "# Function to test the model with images from the test set\n",
        "def test_model_on_image(test_generator, model, index_to_plot=0):\n",
        "    # Get a batch of images and labels from the test generator\n",
        "    test_images, test_labels = next(test_generator)\n",
        "\n",
        "    # Make predictions on the batch\n",
        "    predictions = model.predict(test_images)\n",
        "\n",
        "    # In binary classification, predictions are probabilities (float). Convert to binary (0 or 1)\n",
        "    predicted_classes = (predictions > 0.5).astype(int).flatten()\n",
        "\n",
        "    # Get the class indices from the test generator and invert them to get class names\n",
        "    class_indices = test_generator.class_indices\n",
        "    class_names = {v: k for k, v in class_indices.items()}  # Invert the dictionary\n",
        "\n",
        "    # Specify the image to display based on the index\n",
        "    image_to_plot = test_images[index_to_plot]\n",
        "    true_label = test_labels[index_to_plot]\n",
        "    predicted_label = predicted_classes[index_to_plot]\n",
        "\n",
        "    # Plot the selected image with its true and predicted labels\n",
        "    plot_image_with_title(image=image_to_plot, model=model, true_label=true_label, predicted_label=predicted_label, class_names=class_names)\n",
        "\n",
        "\n"
      ],
      "execution_count": 23
    },
    {
      "cell_type": "markdown",
      "metadata": {
        "id": "28a23452-c0f0-49cc-b112-ded0419566e4"
      },
      "source": [
        "## **Task 7: Visualizing the results**\n",
        "\n",
        "In this task, you will specify which image from the test dataset to display and test the model on. You will fill in the required values to test your model.\n",
        "\n",
        "You will visualize using the following parameters:\n",
        "\n",
        "*   **test_data_generator**: `test_generator`.\n",
        "*   **model**: `model`.\n",
        "*   **index_to_plot**: `1`.\n",
        "\n",
        "Hint: Use `test_model_on_image` to visualize the result:\n",
        "    \n",
        "```python\n",
        "test_model_on_image(<test_data_generator>, <model>, index_to_plot=index_to_plot)\n",
        "\n",
        "```\n",
        "**NOTE**: Due to the inherent nature of neural networks, predictions may vary from the actual labels. For instance, if the actual label is ‘crack’, the prediction could be either ‘crack’ or ‘dent’, both of which are possible outcomes, and full marks will be awarded for the task.\n",
        "\n",
        "**Note: Please copy and save the code of the task as it will be required for submission in the final project. Ensure to submit the response as part of your project submission**                                \n"
      ]
    },
    {
      "cell_type": "code",
      "metadata": {
        "id": "7295887f-6ed3-4ffd-a58c-e7b24895418a",
        "colab": {
          "base_uri": "https://localhost:8080/",
          "height": 560
        },
        "outputId": "8eab9656-32d3-4d30-fca8-bcb8ac56a86b"
      },
      "outputs": [
        {
          "output_type": "stream",
          "name": "stdout",
          "text": [
            "\u001b[1m1/1\u001b[0m \u001b[32m━━━━━━━━━━━━━━━━━━━━\u001b[0m\u001b[37m\u001b[0m \u001b[1m1s\u001b[0m 883ms/step\n"
          ]
        },
        {
          "output_type": "display_data",
          "data": {
            "text/plain": [
              "<Figure size 600x600 with 1 Axes>"
            ],
            "image/png": "[encoded data removed]"
          },
          "metadata": {}
        }
      ],
      "source": [
        "#Write your code here\n",
        "test_model_on_image(test_generator, model, 1)"
      ],
      "execution_count": 24
    },
    {
      "cell_type": "markdown",
      "metadata": {
        "id": "c3d6b968-2101-4e5d-80c8-0abd2d65a079"
      },
      "source": [
        "## <a id='toc2_'></a>[Part 2: Image Captioning and Summarization using BLIP Pretrained Model](#toc2_)\n"
      ]
    },
    {
      "cell_type": "markdown",
      "metadata": {
        "id": "e29332f2-7f0e-419b-a433-251c4a4ac3a2"
      },
      "source": [
        "BLIP (Bootstrapping Language-Image Pretraining) is an advanced vision-and-language model designed to generate natural language descriptions for images. By leveraging both visual and textual information, BLIP can produce human-readable text that accurately reflects the content and context of an image. It is specifically trained to understand images and their relationships to summarizing text, making it ideal for tasks like image captioning, summarization, and visual question answering.\n",
        "\n",
        "In this project, learners will utilize the BLIP model to build a system capable of automatically generating captions and summary for images. The code will integrate the BLIP model within a custom Keras layer. This allows the user to input an image and specify a task, either \"caption\" or \"summary\", to receive a textual output that describes or summarizes the content of the image.\n"
      ]
    },
    {
      "cell_type": "markdown",
      "metadata": {
        "id": "528f8510-db0b-46e9-908b-a92656d5e603"
      },
      "source": [
        "#### Key Steps:\n",
        "\n",
        "- **Image Loading and Preprocessing:** The code will begin by loading images from a file path, then converting and processing them into a format suitable for input to the BLIP model.\n",
        "  \n",
        "- **Text Generation:** Depending on the task, whether generating a caption or summary, the BLIP model will generate corresponding text based on the processed image.\n",
        "  \n",
        "- **Custom Keras Layer:** A custom Keras layer is a user-defined layer that extends Keras' built-in functionality.Here custom Keras layer will be implemented to wrap the BLIP model. This layer will handle the task-specific processing (captioning or summarizing) and integrate smoothly into a TensorFlow/Keras environment.\n"
      ]
    },
    {
      "cell_type": "code",
      "metadata": {
        "id": "73b94429-07b2-4f55-b2d4-68ca4fb6e77a"
      },
      "outputs": [],
      "source": [
        "#Load the required libraries\n",
        "import torch\n",
        "import tensorflow as tf\n",
        "from PIL import Image\n",
        "from transformers import BlipProcessor, BlipForConditionalGeneration"
      ],
      "execution_count": 25
    },
    {
      "cell_type": "markdown",
      "metadata": {
        "id": "9d06dfe3-6417-43bb-bf1c-7461252dcf7e"
      },
      "source": [
        "## 2.1 Loading BLIP Model\n"
      ]
    },
    {
      "cell_type": "markdown",
      "metadata": {
        "id": "b8fa58be-149e-4fc2-a111-1bd4efbe5ddd"
      },
      "source": [
        "#### Load the BLIP Model and Processor from Hugging Face\n",
        "\n",
        "Hugging Face is an open-source platform that provides pre-trained machine learning models, datasets, and tools, primarily focused on natural language processing, computer vision, and other AI tasks. It offers easy access to powerful models through its Transformers library.\n",
        "\n",
        "- **BlipProcessor:** This handles the preprocessing of images and text. It converts images to the format that the BLIP model can understand.\n",
        "\n",
        "- **BlipForConditionalGeneration:** This is the model itself, responsible for generating captions or summaries based on the processed image.\n"
      ]
    },
    {
      "cell_type": "code",
      "metadata": {
        "id": "d1e6c316-5c4e-43f6-b21b-ed080391e5d0",
        "colab": {
          "base_uri": "https://localhost:8080/",
          "height": 279,
          "referenced_widgets": [
            "2e5b41e7bcae419cb23b047b104d0552",
            "f9e1079d5a7f4384bc37c46871c1b433",
            "37043244a12043299103548f08875c8a",
            "c3bda140939f40e28d40a279339a0e0e",
            "a3400d5dfbe94e779d973884a43d4bd1",
            "5222deefdced42d99e93b8d6bd5ec8f1",
            "a053ce88bed94674bf388b967840db2d",
            "4c82303926cd4d31906e5338d27186e0",
            "475e0f2476df4a7e84603ce91b2a1c97",
            "b48e786ea04d46b199f309d48aaf372b",
            "02c5b497768d461682bebb14cf065308",
            "4026b39582e2467c936aa80db4a50151",
            "68fd034b32134e969f0573b84eb73d06",
            "2cd889c15e2945a4b192cb23f8564f77",
            "888452c4832a437ba6d6aabbab337330",
            "95b963914f874d329e0a518f0cd9c93b",
            "4043f57269ab403fba9cde78c81bb762",
            "57d5963807d4495eb4b46ac53d334c9a",
            "75ffe91edcfd4eb68ed10a079730bad5",
            "548715e0eeaa4b94b4470d62fb80c5fd",
            "f05e0b97eecf48779489f8a09510289f",
            "c842ea9b7ed64505b633031d1bcf1e06",
            "7896a51d28e5402685f908bfba5a460c",
            "a02294ad6ba14dc4895435a56db33a16",
            "895a021a662d4fc59588e783abc08689",
            "41b4e18fb3d047339bdb5cf490d3697e",
            "d3d776256c2d488d91f2093b461354ee",
            "53a87e68a3fa44ca8096e2d0593294b5",
            "d2121f7a2485486c878687b5b64d1ed3",
            "e159122493db4e2eac28c8d8e4263968",
            "9a7d84cb4a8f40bfa80bd3ef98e718ed",
            "8c5356bf2b104c1982d1523bb6efdbb9",
            "9fd871f4abda417b9175f486bea01d36",
            "9b32a915ee4449c08397c9b5a0d01b03",
            "9d17281dc21e48d89e3f8c808892c1e0",
            "8cd745a17ad14378b2a473226f0909ea",
            "099fea5a53f5461fb80466b9585d8bbb",
            "fb2f440ca24f40a7a07d2528dfed256a",
            "42e9ffc11c8e41d98cd90aa82e6d1871",
            "01f44c39869944679664d13b100c4292",
            "aa08f2f72cf548068a4dcac6908e6d57",
            "e108992d71bd4743a13ad64acbf1431d",
            "449833acbcaf4ddc92080f32aa4cb8ec",
            "3a1ed9534b9946e6ae50fb16946be49f",
            "19fd974cd3fe4022adb736a487d83597",
            "c2fa17dde5a047dc965cc1c74c024515",
            "5318398a0f754211b9f642eda9c1b050",
            "d7bde000068b40dc93ad719a4fb979a6",
            "038c957019264c1daace01487d92e8ad",
            "b7e88d5e790b4a87977bf2519e9624bb",
            "a49fab436d4d46789e470b83ad013180",
            "c6fb3cf2d6bd45b6817df60fce4b9100",
            "6a443a8c4fa944afb0b65997b88ef78f",
            "9b0c02741ece4b3bb1d56bd8c2d47624",
            "779bd7c0fe584eed87a0c71f8979c371",
            "1b75e6c4de674c7784dfce6409214f87",
            "0e273bf9248d49058321c8956ba521e9",
            "6d4203acb8184ded881b3c4f332e082e",
            "896cbdaa5cd141808e0d0c2fcb9739fd",
            "eaed584067854cdf961df9af129cf8c2",
            "34d79cc9bdb4421a898625ed941445f7",
            "ad8fde50c7c84fa18412adfc68611d11",
            "1198a22faf454708ba2fd1922df91227",
            "d9470e8cb0984a59817e189b35ec4d63",
            "6b834b4f7521471f93fe1bbb087ccd8e",
            "648d2371befd47ec960152e6953460eb",
            "68b3cabe9bff46d480d6ab45d1452bb3",
            "85b66b7c66514b988b5fd4e57af8f3cf",
            "5bd6e332ce0542878ad40482ccac09c2",
            "6c98267da632444c8d09efa271dff698",
            "eaf69c741f78424ea6447b8cde5b008f",
            "4eccf6f7bf7a4deabcb64fd5f3ef38d0",
            "a7d0434c2baf46dca43d69b94c537a13",
            "9ed1dc2445e64430b21fa9a1a006060e",
            "c5c24f9257fa4507862ace1cda36f3e8",
            "c4627d2abf384a5197324159297ca7ae",
            "b6e6d780022f437aae21395125108695"
          ]
        },
        "outputId": "a937ee46-4372-40a4-d326-c1af9ea26a2e"
      },
      "outputs": [
        {
          "output_type": "stream",
          "name": "stderr",
          "text": [
            "Using a slow image processor as `use_fast` is unset and a slow processor was saved with this model. `use_fast=True` will be the default behavior in v4.52, even if the model was saved with a slow processor. This will result in minor differences in outputs. You'll still be able to use a slow processor with `use_fast=False`.\n"
          ]
        },
        {
          "output_type": "display_data",
          "data": {
            "text/plain": [
              "preprocessor_config.json:   0%|          | 0.00/287 [00:00<?, ?B/s]"
            ],
            "application/vnd.jupyter.widget-view+json": {
              "version_major": 2,
              "version_minor": 0,
              "model_id": "2e5b41e7bcae419cb23b047b104d0552"
            }
          },
          "metadata": {}
        },
        {
          "output_type": "display_data",
          "data": {
            "text/plain": [
              "tokenizer_config.json:   0%|          | 0.00/506 [00:00<?, ?B/s]"
            ],
            "application/vnd.jupyter.widget-view+json": {
              "version_major": 2,
              "version_minor": 0,
              "model_id": "4026b39582e2467c936aa80db4a50151"
            }
          },
          "metadata": {}
        },
        {
          "output_type": "display_data",
          "data": {
            "text/plain": [
              "vocab.txt: 0.00B [00:00, ?B/s]"
            ],
            "application/vnd.jupyter.widget-view+json": {
              "version_major": 2,
              "version_minor": 0,
              "model_id": "7896a51d28e5402685f908bfba5a460c"
            }
          },
          "metadata": {}
        },
        {
          "output_type": "display_data",
          "data": {
            "text/plain": [
              "tokenizer.json: 0.00B [00:00, ?B/s]"
            ],
            "application/vnd.jupyter.widget-view+json": {
              "version_major": 2,
              "version_minor": 0,
              "model_id": "9b32a915ee4449c08397c9b5a0d01b03"
            }
          },
          "metadata": {}
        },
        {
          "output_type": "display_data",
          "data": {
            "text/plain": [
              "special_tokens_map.json:   0%|          | 0.00/125 [00:00<?, ?B/s]"
            ],
            "application/vnd.jupyter.widget-view+json": {
              "version_major": 2,
              "version_minor": 0,
              "model_id": "19fd974cd3fe4022adb736a487d83597"
            }
          },
          "metadata": {}
        },
        {
          "output_type": "display_data",
          "data": {
            "text/plain": [
              "config.json: 0.00B [00:00, ?B/s]"
            ],
            "application/vnd.jupyter.widget-view+json": {
              "version_major": 2,
              "version_minor": 0,
              "model_id": "1b75e6c4de674c7784dfce6409214f87"
            }
          },
          "metadata": {}
        },
        {
          "output_type": "display_data",
          "data": {
            "text/plain": [
              "pytorch_model.bin:   0%|          | 0.00/990M [00:00<?, ?B/s]"
            ],
            "application/vnd.jupyter.widget-view+json": {
              "version_major": 2,
              "version_minor": 0,
              "model_id": "68b3cabe9bff46d480d6ab45d1452bb3"
            }
          },
          "metadata": {}
        }
      ],
      "source": [
        "#load the pretrained BLIP processor and model:\n",
        "processor = BlipProcessor.from_pretrained(\"Salesforce/blip-image-captioning-base\")\n",
        "model = BlipForConditionalGeneration.from_pretrained(\"Salesforce/blip-image-captioning-base\")"
      ],
      "execution_count": 26
    },
    {
      "cell_type": "markdown",
      "metadata": {
        "id": "8d7c257b-99ef-4763-9f2a-d9e0209ec8f4"
      },
      "source": [
        "#### Custom Keras Layer: BlipCaptionSummaryLayer\n",
        "\n",
        "Next, we define a custom `tf.keras.layers.Layer` class that takes in an image and a task input (either caption or summary) and processes the image using the BLIP model. To create a custom Keras layer, we need to subclass `tf.keras.layers.Layer` and implement the required methods.\n",
        "\n",
        "#### **BlipCaptionSummaryLayer Class:**\n",
        "\n",
        "This custom Keras layer integrates image preprocessing and text generation using a pretrained BLIP model.\n",
        "\n",
        "- **`__init__`**: This constructor method initializes the `BlipCaptionSummaryLayer` class by setting up the BLIP processor and model.\n",
        "  \n",
        "- **`call`**: This method defines the operations or transformations applied to the input data as it passes through the layer.\n",
        "\n",
        "- **`process_image`**: The `process_image` method contains the custom logic for loading the image, preprocessing it, generating the text (either a caption or a summary) using the BLIP model, and returning the generated result.\n"
      ]
    },
    {
      "cell_type": "code",
      "metadata": {
        "id": "829803ea-8494-4107-85bf-42c77da21d53"
      },
      "outputs": [],
      "source": [
        "class BlipCaptionSummaryLayer(tf.keras.layers.Layer):\n",
        "    def __init__(self, processor, model, **kwargs):\n",
        "        \"\"\"\n",
        "        Initialize the custom Keras layer with the BLIP processor and model.\n",
        "\n",
        "        Args:\n",
        "            processor: The BLIP processor for preparing inputs for the model.\n",
        "            model: The BLIP model for generating captions or summaries.\n",
        "        \"\"\"\n",
        "        super().__init__(**kwargs)\n",
        "        self.processor = processor\n",
        "        self.model = model\n",
        "\n",
        "    def call(self, image_path, task):\n",
        "        # Use tf.py_function to run the custom image processing and text generation\n",
        "        return tf.py_function(self.process_image, [image_path, task], tf.string)\n",
        "\n",
        "    def process_image(self, image_path, task):\n",
        "        \"\"\"\n",
        "        Perform image loading, preprocessing, and text generation.\n",
        "\n",
        "        Args:\n",
        "            image_path: Path to the image file as a string.\n",
        "            task: The type of task (\"caption\" or \"summary\").\n",
        "\n",
        "        Returns:\n",
        "            The generated caption or summary as a string.\n",
        "        \"\"\"\n",
        "        try:\n",
        "            # Decode the image path from the TensorFlow tensor to a Python string\n",
        "            image_path_str = image_path.numpy().decode(\"utf-8\")\n",
        "\n",
        "            # Open the image using PIL and convert it to RGB format\n",
        "            image = Image.open(image_path_str).convert(\"RGB\")\n",
        "\n",
        "            # Set the appropriate prompt based on the task\n",
        "            if task.numpy().decode(\"utf-8\") == \"caption\":\n",
        "                prompt = \"This is a picture of\"  # Modify prompt for more natural output\n",
        "            else:\n",
        "                prompt = \"This is a detailed photo showing\"  # Modify for summary\n",
        "\n",
        "            # Prepare inputs for the BLIP model\n",
        "            inputs = self.processor(images=image, text=prompt, return_tensors=\"pt\")\n",
        "\n",
        "            # Generate text output using the BLIP model\n",
        "            output = self.model.generate(**inputs)\n",
        "\n",
        "            # Decode the output into a readable string\n",
        "            result = self.processor.decode(output[0], skip_special_tokens=True)\n",
        "            return result\n",
        "        except Exception as e:\n",
        "            # Handle errors during image processing or text generation\n",
        "            print(f\"Error: {e}\")\n",
        "            return \"Error processing image\"\n"
      ],
      "execution_count": 27
    },
    {
      "cell_type": "markdown",
      "metadata": {
        "id": "4d61b1a4-02fe-49db-8cbd-dad31378f054"
      },
      "source": [
        "## Task 8: Implement a Helper Function to Use the Custom Keras Layer\n",
        "\n",
        "In this task, you will implement a helper function `generate_text` that utilizes the custom `BlipCaptionSummaryLayer` Keras layer to generate captions or summaries for a given image. The function will accept an image path and a task type (caption or summary), process the image using the BLIP model, and return the generated text.\n",
        "\n",
        "### **Steps:**\n",
        "\n",
        "#### Create the Helper Function `generate_text`:\n",
        "The function will accept following parameters:\n",
        "\n",
        "* **`image_path`**: The path to the image file (in tensor format).\n",
        "* **`task`**: The type of task to perform, which can either be \"caption\" or \"summary\" (in tensor format).\n",
        "  \n",
        "Inside the function:\n",
        "1. Create an instance(blip_layer) of the `BlipCaptionSummaryLayer`.\n",
        "2. Call this layer with the provided image path and task type.\n",
        "3. Return the generated caption or summary as the output.\n",
        "\n",
        "**Note: Please copy and save the code of the task as it will be required for submission in the final project. Ensure to submit the response as part of your project submission**\n"
      ]
    },
    {
      "cell_type": "code",
      "metadata": {
        "id": "cbda4d99-8c44-4116-b3d7-44b37e42adcd"
      },
      "outputs": [],
      "source": [
        "# Write your code here\n",
        "def generate_text(image_path, task):\n",
        "    blip_layer = BlipCaptionSummaryLayer(processor, model)\n",
        "    return blip_layer(image_path, task)"
      ],
      "execution_count": 28
    },
    {
      "cell_type": "markdown",
      "metadata": {
        "id": "bbe4a610-92b1-46b4-ba49-d2d3c6e76c7c"
      },
      "source": [
        "Double-click <b>here</b> for the Hint.\n",
        "<!--\n",
        "# Define a helper function to use the custom Keras layer\n",
        "def generate_text(image_path, task):\n",
        "  # Create an instance of the custom Keras layer\n",
        "  # Replace this with the pretrained BLIP processor and model loaded earlier\n",
        "    blip_layer = BlipCaptionSummaryLayer(<blip processor>, <model>)\n",
        "    # Call the layer with the provided inputs\n",
        "    return blip_layer(image_path, task)\n",
        "-->    \n"
      ]
    },
    {
      "cell_type": "markdown",
      "metadata": {
        "id": "1a8370bf-eb46-47d8-aee1-98a02bf29cc2"
      },
      "source": [
        "## 2.2 Generating Captions and Summaries\n"
      ]
    },
    {
      "cell_type": "markdown",
      "metadata": {
        "id": "0e8ea1af-2f29-41b3-8aa5-088e3d9faf37"
      },
      "source": [
        "Now we use the `generate_text` function to generate a caption and a summary for an image.\n",
        "It processes the image and prints the corresponding text output in a human-readable format.\n",
        "The function makes it easy to switch between generating captions and summaries based on the task type you provide.</br>\n",
        "</br>\n",
        "\n",
        "**Note:** Generated captions/summary may not always be accurate, as the model is limited by its training data and may not fully understand new or specific images.\n",
        "\n"
      ]
    },
    {
      "cell_type": "code",
      "metadata": {
        "id": "cea4af14-fbda-40fb-9a33-8996689d8623",
        "colab": {
          "base_uri": "https://localhost:8080/"
        },
        "outputId": "245cf55a-6681-49e8-8383-68436d026a14"
      },
      "outputs": [
        {
          "output_type": "stream",
          "name": "stdout",
          "text": [
            "Caption: this is a picture of a plane\n",
            "Summary: this is a detailed photo showing the engine of a boeing 747\n"
          ]
        }
      ],
      "source": [
        "\n",
        "# Path to an example image\n",
        "image_path = tf.constant(\"aircraft_damage_dataset_v1/test/dent/144_10_JPG_jpg.rf.4d008cc33e217c1606b76585469d626b.jpg\")  # actual path of image\n",
        "\n",
        "# Generate a caption for the image\n",
        "caption = generate_text(image_path, tf.constant(\"caption\"))\n",
        "# Decode and print the generated caption\n",
        "print(\"Caption:\", caption.numpy().decode(\"utf-8\"))\n",
        "\n",
        "# Generate a summary for the image\n",
        "summary = generate_text(image_path, tf.constant(\"summary\"))\n",
        "# Decode and print the generated summary\n",
        "print(\"Summary:\", summary.numpy().decode(\"utf-8\"))"
      ],
      "execution_count": 29
    },
    {
      "cell_type": "markdown",
      "metadata": {
        "id": "f1258f42-eded-4721-9a16-1f28cb592130"
      },
      "source": [
        "## Task 9: Generate a caption for an image using the using BLIP pretrained model\n",
        "\n",
        "- Use the image_path variable given below to load the image. Run the cell to before proceeding to next step.\n",
        "- Use the `generate_text` function to generate a caption for the image.\n",
        "- Use the example given in `2.2 Generating Captions and Summaries` for this task\n",
        "  \n",
        "**Note:** Generated captions may not always be accurate, as the model is limited by its training data and may not fully understand new or specific images.\n",
        "  \n",
        "**Note: Please copy and save the output of the task as it will be required for submission in the final project. Ensure to submit the response as part of your project submission**\n"
      ]
    },
    {
      "cell_type": "code",
      "metadata": {
        "id": "831d0867-3884-4c84-acde-5e6be4b35d65",
        "colab": {
          "base_uri": "https://localhost:8080/",
          "height": 406
        },
        "outputId": "782f6f1b-ddf6-4b53-d44e-8aa5037387b2"
      },
      "outputs": [
        {
          "output_type": "display_data",
          "data": {
            "text/plain": [
              "<Figure size 640x480 with 1 Axes>"
            ],
            "image/png": "[encoded data removed]"
          },
          "metadata": {}
        }
      ],
      "source": [
        "# We will use the following image to display Caption and Summary for Task 9 and 10\n",
        "# URL of the image\n",
        "image_url = \"aircraft_damage_dataset_v1/test/dent/149_22_JPG_jpg.rf.4899cbb6f4aad9588fa3811bb886c34d.jpg\"\n",
        "# Load and display the image\n",
        "img = plt.imread(image_url)\n",
        "plt.imshow(img)\n",
        "plt.axis('off')  # Hide the axis\n",
        "plt.show()"
      ],
      "execution_count": 30
    },
    {
      "cell_type": "code",
      "metadata": {
        "id": "55ebceb2-3f0f-41b9-8117-7302d735342a"
      },
      "outputs": [],
      "source": [
        "image_path = tf.constant(\"aircraft_damage_dataset_v1/test/dent/149_22_JPG_jpg.rf.4899cbb6f4aad9588fa3811bb886c34d.jpg\")  # actual path of image"
      ],
      "execution_count": 31
    },
    {
      "cell_type": "code",
      "metadata": {
        "id": "055b1558-0293-4219-93c7-56f82d624b39",
        "colab": {
          "base_uri": "https://localhost:8080/"
        },
        "outputId": "feb92ec0-3c9b-4dec-d020-368f87d505be"
      },
      "outputs": [
        {
          "output_type": "stream",
          "name": "stdout",
          "text": [
            "Caption: this is a picture of a plane that was sitting on the ground in a field\n",
            "Summary: this is a detailed photo showing the damage to the fuselage of the aircraft\n"
          ]
        }
      ],
      "source": [
        "# Write your code here\n",
        "# Generate a caption for the image\n",
        "caption = generate_text(image_path, tf.constant(\"caption\"))\n",
        "# Decode and print the generated caption\n",
        "print(\"Caption:\", caption.numpy().decode(\"utf-8\"))\n",
        "\n",
        "# Generate a summary for the image\n",
        "summary = generate_text(image_path, tf.constant(\"summary\"))\n",
        "# Decode and print the generated summary\n",
        "print(\"Summary:\", summary.numpy().decode(\"utf-8\"))"
      ],
      "execution_count": 32
    },
    {
      "cell_type": "markdown",
      "metadata": {
        "id": "2cabc75d-1066-4db2-9674-0acc11d60980"
      },
      "source": [
        "## Task 10: Generate a summary of an image using BLIP pretrained model\n",
        "\n",
        "- Use the image_path variable given below to load the image. Run the cell before proceeding to next step.\n",
        "- Use the `generate_text` function to generate a caption for the image.\n",
        "- Use the example given in `2.2 Generating Captions and Summaries` for this task\n",
        "\n",
        "**Note:** Generated summary may not always be accurate, as the model is limited by its training data and may not fully understand new or specific images.\n",
        "\n",
        "**Note: Please copy and save the output of the task as it will be required for submission in the final project. Ensure to submit the response as part of your project submission**\n"
      ]
    },
    {
      "cell_type": "code",
      "metadata": {
        "id": "3a414210-27ac-49c9-82d6-b451a6c86d31"
      },
      "outputs": [],
      "source": [
        "image_path = tf.constant(\"aircraft_damage_dataset_v1/test/dent/149_22_JPG_jpg.rf.4899cbb6f4aad9588fa3811bb886c34d.jpg\")  # actual path of image"
      ],
      "execution_count": 34
    },
    {
      "cell_type": "code",
      "metadata": {
        "id": "b0a5ae5e-c1c9-40db-8792-c48b43ec60b0",
        "colab": {
          "base_uri": "https://localhost:8080/"
        },
        "outputId": "da276763-5702-4666-b56c-5bc1d3537834"
      },
      "outputs": [
        {
          "output_type": "stream",
          "name": "stdout",
          "text": [
            "Summary: this is a detailed photo showing the damage to the fuselage of the aircraft\n"
          ]
        }
      ],
      "source": [
        "# Write your code here\n",
        "# Generate a summary for the image\n",
        "summary = generate_text(image_path, tf.constant(\"summary\"))\n",
        "# Decode and print the generated summary\n",
        "print(\"Summary:\", summary.numpy().decode(\"utf-8\"))"
      ],
      "execution_count": 35
    },
    {
      "cell_type": "markdown",
      "metadata": {
        "id": "54b85851-5fb0-41fe-a67e-aac9b030f666"
      },
      "source": [
        "### Congratulations on completing the final project!\n",
        "Now, download the file as it will be used for the final grading.Please note that the file should have both code and output of the cells.\n",
        "\n",
        "### Steps to download the file:\n",
        "1. Click on **File** from the left side of the menu.\n",
        "2. Select **Download**.\n",
        "\n",
        "![Download Image](https://cf-courses-data.s3.us.cloud-object-storage.appdomain.cloud/oNELo6MwGDRaIbnzNgzYRA/download.png)\n"
      ]
    },
    {
      "cell_type": "markdown",
      "metadata": {
        "id": "2afacaf5-9cfc-4535-940e-ce8c1e2d825d"
      },
      "source": [
        "## Authors\n"
      ]
    },
    {
      "cell_type": "markdown",
      "metadata": {
        "id": "db77dbc2-773d-4965-9d32-2e99708295d4"
      },
      "source": [
        "Vandana Pandey\n"
      ]
    },
    {
      "cell_type": "markdown",
      "metadata": {
        "id": "21e40c73-1a94-4e15-a809-7193a8c13def"
      },
      "source": [
        "### Other Contributors\n"
      ]
    },
    {
      "cell_type": "markdown",
      "metadata": {
        "id": "6fa9ab4c-c616-4d5c-891e-a545db3dae4b"
      },
      "source": [
        "[Srishti Srivastava](https://www.linkedin.com/in/srishti-srivastava-343095a8/), [Aman Aggarwal](https://www.linkedin.com/in/aggarwal-aman/)\n"
      ]
    },
    {
      "cell_type": "markdown",
      "metadata": {
        "id": "415ae519-1590-431a-b61e-ee13fe4a8288"
      },
      "source": [
        "<!--\n",
        "## Change log\n",
        "| Date (YYYY-MM-DD) | Version | Changed By | Change Description    |\n",
        "| ----------------- | ------- | ---------- | --------------------- |\n",
        "| 2025-06-23        | 0.1     | Vandana Pandey| Create Lab        |-->\n"
      ]
    },
    {
      "cell_type": "markdown",
      "metadata": {
        "id": "1af4cca8-c9a7-41b5-9c86-5e34355b4ae9"
      },
      "source": [
        "## <h3 align=\"center\"> &#169; IBM Corporation. All rights reserved. <h3/>\n"
      ]
    }
  ],
  "metadata": {
    "kernelspec": {
      "display_name": "Python 3",
      "name": "python3"
    },
    "language_info": {
      "name": "python",
      "version": "3.12.8",
      "mimetype": "text/x-python",
      "codemirror_mode": {
        "name": "ipython",
        "version": 3
      },
      "pygments_lexer": "ipython3",
      "nbconvert_exporter": "python",
      "file_extension": ".py"
    },
    "prev_pub_hash": "20a5f0ec245fc64437687c16e69a352f7672baee5b3a6a6c35136813dc1b8ea2",
    "colab": {
      "provenance": [],
      "gpuType": "T4"
    },
    "accelerator": "GPU",
    "widgets": {
      "application/vnd.jupyter.widget-state+json": {
        "2e5b41e7bcae419cb23b047b104d0552": {
          "model_module": "@jupyter-widgets/controls",
          "model_name": "HBoxModel",
          "model_module_version": "1.5.0",
          "state": {
            "_dom_classes": [],
            "_model_module": "@jupyter-widgets/controls",
            "_model_module_version": "1.5.0",
            "_model_name": "HBoxModel",
            "_view_count": null,
            "_view_module": "@jupyter-widgets/controls",
            "_view_module_version": "1.5.0",
            "_view_name": "HBoxView",
            "box_style": "",
            "children": [
              "IPY_MODEL_f9e1079d5a7f4384bc37c46871c1b433",
              "IPY_MODEL_37043244a12043299103548f08875c8a",
              "IPY_MODEL_c3bda140939f40e28d40a279339a0e0e"
            ],
            "layout": "IPY_MODEL_a3400d5dfbe94e779d973884a43d4bd1"
          }
        },
        "f9e1079d5a7f4384bc37c46871c1b433": {
          "model_module": "@jupyter-widgets/controls",
          "model_name": "HTMLModel",
          "model_module_version": "1.5.0",
          "state": {
            "_dom_classes": [],
            "_model_module": "@jupyter-widgets/controls",
            "_model_module_version": "1.5.0",
            "_model_name": "HTMLModel",
            "_view_count": null,
            "_view_module": "@jupyter-widgets/controls",
            "_view_module_version": "1.5.0",
            "_view_name": "HTMLView",
            "description": "",
            "description_tooltip": null,
            "layout": "IPY_MODEL_5222deefdced42d99e93b8d6bd5ec8f1",
            "placeholder": "​",
            "style": "IPY_MODEL_a053ce88bed94674bf388b967840db2d",
            "value": "preprocessor_config.json: 100%"
          }
        },
        "37043244a12043299103548f08875c8a": {
          "model_module": "@jupyter-widgets/controls",
          "model_name": "FloatProgressModel",
          "model_module_version": "1.5.0",
          "state": {
            "_dom_classes": [],
            "_model_module": "@jupyter-widgets/controls",
            "_model_module_version": "1.5.0",
            "_model_name": "FloatProgressModel",
            "_view_count": null,
            "_view_module": "@jupyter-widgets/controls",
            "_view_module_version": "1.5.0",
            "_view_name": "ProgressView",
            "bar_style": "success",
            "description": "",
            "description_tooltip": null,
            "layout": "IPY_MODEL_4c82303926cd4d31906e5338d27186e0",
            "max": 287,
            "min": 0,
            "orientation": "horizontal",
            "style": "IPY_MODEL_475e0f2476df4a7e84603ce91b2a1c97",
            "value": 287
          }
        },
        "c3bda140939f40e28d40a279339a0e0e": {
          "model_module": "@jupyter-widgets/controls",
          "model_name": "HTMLModel",
          "model_module_version": "1.5.0",
          "state": {
            "_dom_classes": [],
            "_model_module": "@jupyter-widgets/controls",
            "_model_module_version": "1.5.0",
            "_model_name": "HTMLModel",
            "_view_count": null,
            "_view_module": "@jupyter-widgets/controls",
            "_view_module_version": "1.5.0",
            "_view_name": "HTMLView",
            "description": "",
            "description_tooltip": null,
            "layout": "IPY_MODEL_b48e786ea04d46b199f309d48aaf372b",
            "placeholder": "​",
            "style": "IPY_MODEL_02c5b497768d461682bebb14cf065308",
            "value": " 287/287 [00:00&lt;00:00, 36.2kB/s]"
          }
        },
        "a3400d5dfbe94e779d973884a43d4bd1": {
          "model_module": "@jupyter-widgets/base",
          "model_name": "LayoutModel",
          "model_module_version": "1.2.0",
          "state": {
            "_model_module": "@jupyter-widgets/base",
            "_model_module_version": "1.2.0",
            "_model_name": "LayoutModel",
            "_view_count": null,
            "_view_module": "@jupyter-widgets/base",
            "_view_module_version": "1.2.0",
            "_view_name": "LayoutView",
            "align_content": null,
            "align_items": null,
            "align_self": null,
            "border": null,
            "bottom": null,
            "display": null,
            "flex": null,
            "flex_flow": null,
            "grid_area": null,
            "grid_auto_columns": null,
            "grid_auto_flow": null,
            "grid_auto_rows": null,
            "grid_column": null,
            "grid_gap": null,
            "grid_row": null,
            "grid_template_areas": null,
            "grid_template_columns": null,
            "grid_template_rows": null,
            "height": null,
            "justify_content": null,
            "justify_items": null,
            "left": null,
            "margin": null,
            "max_height": null,
            "max_width": null,
            "min_height": null,
            "min_width": null,
            "object_fit": null,
            "object_position": null,
            "order": null,
            "overflow": null,
            "overflow_x": null,
            "overflow_y": null,
            "padding": null,
            "right": null,
            "top": null,
            "visibility": null,
            "width": null
          }
        },
        "5222deefdced42d99e93b8d6bd5ec8f1": {
          "model_module": "@jupyter-widgets/base",
          "model_name": "LayoutModel",
          "model_module_version": "1.2.0",
          "state": {
            "_model_module": "@jupyter-widgets/base",
            "_model_module_version": "1.2.0",
            "_model_name": "LayoutModel",
            "_view_count": null,
            "_view_module": "@jupyter-widgets/base",
            "_view_module_version": "1.2.0",
            "_view_name": "LayoutView",
            "align_content": null,
            "align_items": null,
            "align_self": null,
            "border": null,
            "bottom": null,
            "display": null,
            "flex": null,
            "flex_flow": null,
            "grid_area": null,
            "grid_auto_columns": null,
            "grid_auto_flow": null,
            "grid_auto_rows": null,
            "grid_column": null,
            "grid_gap": null,
            "grid_row": null,
            "grid_template_areas": null,
            "grid_template_columns": null,
            "grid_template_rows": null,
            "height": null,
            "justify_content": null,
            "justify_items": null,
            "left": null,
            "margin": null,
            "max_height": null,
            "max_width": null,
            "min_height": null,
            "min_width": null,
            "object_fit": null,
            "object_position": null,
            "order": null,
            "overflow": null,
            "overflow_x": null,
            "overflow_y": null,
            "padding": null,
            "right": null,
            "top": null,
            "visibility": null,
            "width": null
          }
        },
        "a053ce88bed94674bf388b967840db2d": {
          "model_module": "@jupyter-widgets/controls",
          "model_name": "DescriptionStyleModel",
          "model_module_version": "1.5.0",
          "state": {
            "_model_module": "@jupyter-widgets/controls",
            "_model_module_version": "1.5.0",
            "_model_name": "DescriptionStyleModel",
            "_view_count": null,
            "_view_module": "@jupyter-widgets/base",
            "_view_module_version": "1.2.0",
            "_view_name": "StyleView",
            "description_width": ""
          }
        },
        "4c82303926cd4d31906e5338d27186e0": {
          "model_module": "@jupyter-widgets/base",
          "model_name": "LayoutModel",
          "model_module_version": "1.2.0",
          "state": {
            "_model_module": "@jupyter-widgets/base",
            "_model_module_version": "1.2.0",
            "_model_name": "LayoutModel",
            "_view_count": null,
            "_view_module": "@jupyter-widgets/base",
            "_view_module_version": "1.2.0",
            "_view_name": "LayoutView",
            "align_content": null,
            "align_items": null,
            "align_self": null,
            "border": null,
            "bottom": null,
            "display": null,
            "flex": null,
            "flex_flow": null,
            "grid_area": null,
            "grid_auto_columns": null,
            "grid_auto_flow": null,
            "grid_auto_rows": null,
            "grid_column": null,
            "grid_gap": null,
            "grid_row": null,
            "grid_template_areas": null,
            "grid_template_columns": null,
            "grid_template_rows": null,
            "height": null,
            "justify_content": null,
            "justify_items": null,
            "left": null,
            "margin": null,
            "max_height": null,
            "max_width": null,
            "min_height": null,
            "min_width": null,
            "object_fit": null,
            "object_position": null,
            "order": null,
            "overflow": null,
            "overflow_x": null,
            "overflow_y": null,
            "padding": null,
            "right": null,
            "top": null,
            "visibility": null,
            "width": null
          }
        },
        "475e0f2476df4a7e84603ce91b2a1c97": {
          "model_module": "@jupyter-widgets/controls",
          "model_name": "ProgressStyleModel",
          "model_module_version": "1.5.0",
          "state": {
            "_model_module": "@jupyter-widgets/controls",
            "_model_module_version": "1.5.0",
            "_model_name": "ProgressStyleModel",
            "_view_count": null,
            "_view_module": "@jupyter-widgets/base",
            "_view_module_version": "1.2.0",
            "_view_name": "StyleView",
            "bar_color": null,
            "description_width": ""
          }
        },
        "b48e786ea04d46b199f309d48aaf372b": {
          "model_module": "@jupyter-widgets/base",
          "model_name": "LayoutModel",
          "model_module_version": "1.2.0",
          "state": {
            "_model_module": "@jupyter-widgets/base",
            "_model_module_version": "1.2.0",
            "_model_name": "LayoutModel",
            "_view_count": null,
            "_view_module": "@jupyter-widgets/base",
            "_view_module_version": "1.2.0",
            "_view_name": "LayoutView",
            "align_content": null,
            "align_items": null,
            "align_self": null,
            "border": null,
            "bottom": null,
            "display": null,
            "flex": null,
            "flex_flow": null,
            "grid_area": null,
            "grid_auto_columns": null,
            "grid_auto_flow": null,
            "grid_auto_rows": null,
            "grid_column": null,
            "grid_gap": null,
            "grid_row": null,
            "grid_template_areas": null,
            "grid_template_columns": null,
            "grid_template_rows": null,
            "height": null,
            "justify_content": null,
            "justify_items": null,
            "left": null,
            "margin": null,
            "max_height": null,
            "max_width": null,
            "min_height": null,
            "min_width": null,
            "object_fit": null,
            "object_position": null,
            "order": null,
            "overflow": null,
            "overflow_x": null,
            "overflow_y": null,
            "padding": null,
            "right": null,
            "top": null,
            "visibility": null,
            "width": null
          }
        },
        "02c5b497768d461682bebb14cf065308": {
          "model_module": "@jupyter-widgets/controls",
          "model_name": "DescriptionStyleModel",
          "model_module_version": "1.5.0",
          "state": {
            "_model_module": "@jupyter-widgets/controls",
            "_model_module_version": "1.5.0",
            "_model_name": "DescriptionStyleModel",
            "_view_count": null,
            "_view_module": "@jupyter-widgets/base",
            "_view_module_version": "1.2.0",
            "_view_name": "StyleView",
            "description_width": ""
          }
        },
        "4026b39582e2467c936aa80db4a50151": {
          "model_module": "@jupyter-widgets/controls",
          "model_name": "HBoxModel",
          "model_module_version": "1.5.0",
          "state": {
            "_dom_classes": [],
            "_model_module": "@jupyter-widgets/controls",
            "_model_module_version": "1.5.0",
            "_model_name": "HBoxModel",
            "_view_count": null,
            "_view_module": "@jupyter-widgets/controls",
            "_view_module_version": "1.5.0",
            "_view_name": "HBoxView",
            "box_style": "",
            "children": [
              "IPY_MODEL_68fd034b32134e969f0573b84eb73d06",
              "IPY_MODEL_2cd889c15e2945a4b192cb23f8564f77",
              "IPY_MODEL_888452c4832a437ba6d6aabbab337330"
            ],
            "layout": "IPY_MODEL_95b963914f874d329e0a518f0cd9c93b"
          }
        },
        "68fd034b32134e969f0573b84eb73d06": {
          "model_module": "@jupyter-widgets/controls",
          "model_name": "HTMLModel",
          "model_module_version": "1.5.0",
          "state": {
            "_dom_classes": [],
            "_model_module": "@jupyter-widgets/controls",
            "_model_module_version": "1.5.0",
            "_model_name": "HTMLModel",
            "_view_count": null,
            "_view_module": "@jupyter-widgets/controls",
            "_view_module_version": "1.5.0",
            "_view_name": "HTMLView",
            "description": "",
            "description_tooltip": null,
            "layout": "IPY_MODEL_4043f57269ab403fba9cde78c81bb762",
            "placeholder": "​",
            "style": "IPY_MODEL_57d5963807d4495eb4b46ac53d334c9a",
            "value": "tokenizer_config.json: 100%"
          }
        },
        "2cd889c15e2945a4b192cb23f8564f77": {
          "model_module": "@jupyter-widgets/controls",
          "model_name": "FloatProgressModel",
          "model_module_version": "1.5.0",
          "state": {
            "_dom_classes": [],
            "_model_module": "@jupyter-widgets/controls",
            "_model_module_version": "1.5.0",
            "_model_name": "FloatProgressModel",
            "_view_count": null,
            "_view_module": "@jupyter-widgets/controls",
            "_view_module_version": "1.5.0",
            "_view_name": "ProgressView",
            "bar_style": "success",
            "description": "",
            "description_tooltip": null,
            "layout": "IPY_MODEL_75ffe91edcfd4eb68ed10a079730bad5",
            "max": 506,
            "min": 0,
            "orientation": "horizontal",
            "style": "IPY_MODEL_548715e0eeaa4b94b4470d62fb80c5fd",
            "value": 506
          }
        },
        "888452c4832a437ba6d6aabbab337330": {
          "model_module": "@jupyter-widgets/controls",
          "model_name": "HTMLModel",
          "model_module_version": "1.5.0",
          "state": {
            "_dom_classes": [],
            "_model_module": "@jupyter-widgets/controls",
            "_model_module_version": "1.5.0",
            "_model_name": "HTMLModel",
            "_view_count": null,
            "_view_module": "@jupyter-widgets/controls",
            "_view_module_version": "1.5.0",
            "_view_name": "HTMLView",
            "description": "",
            "description_tooltip": null,
            "layout": "IPY_MODEL_f05e0b97eecf48779489f8a09510289f",
            "placeholder": "​",
            "style": "IPY_MODEL_c842ea9b7ed64505b633031d1bcf1e06",
            "value": " 506/506 [00:00&lt;00:00, 55.3kB/s]"
          }
        },
        "95b963914f874d329e0a518f0cd9c93b": {
          "model_module": "@jupyter-widgets/base",
          "model_name": "LayoutModel",
          "model_module_version": "1.2.0",
          "state": {
            "_model_module": "@jupyter-widgets/base",
            "_model_module_version": "1.2.0",
            "_model_name": "LayoutModel",
            "_view_count": null,
            "_view_module": "@jupyter-widgets/base",
            "_view_module_version": "1.2.0",
            "_view_name": "LayoutView",
            "align_content": null,
            "align_items": null,
            "align_self": null,
            "border": null,
            "bottom": null,
            "display": null,
            "flex": null,
            "flex_flow": null,
            "grid_area": null,
            "grid_auto_columns": null,
            "grid_auto_flow": null,
            "grid_auto_rows": null,
            "grid_column": null,
            "grid_gap": null,
            "grid_row": null,
            "grid_template_areas": null,
            "grid_template_columns": null,
            "grid_template_rows": null,
            "height": null,
            "justify_content": null,
            "justify_items": null,
            "left": null,
            "margin": null,
            "max_height": null,
            "max_width": null,
            "min_height": null,
            "min_width": null,
            "object_fit": null,
            "object_position": null,
            "order": null,
            "overflow": null,
            "overflow_x": null,
            "overflow_y": null,
            "padding": null,
            "right": null,
            "top": null,
            "visibility": null,
            "width": null
          }
        },
        "4043f57269ab403fba9cde78c81bb762": {
          "model_module": "@jupyter-widgets/base",
          "model_name": "LayoutModel",
          "model_module_version": "1.2.0",
          "state": {
            "_model_module": "@jupyter-widgets/base",
            "_model_module_version": "1.2.0",
            "_model_name": "LayoutModel",
            "_view_count": null,
            "_view_module": "@jupyter-widgets/base",
            "_view_module_version": "1.2.0",
            "_view_name": "LayoutView",
            "align_content": null,
            "align_items": null,
            "align_self": null,
            "border": null,
            "bottom": null,
            "display": null,
            "flex": null,
            "flex_flow": null,
            "grid_area": null,
            "grid_auto_columns": null,
            "grid_auto_flow": null,
            "grid_auto_rows": null,
            "grid_column": null,
            "grid_gap": null,
            "grid_row": null,
            "grid_template_areas": null,
            "grid_template_columns": null,
            "grid_template_rows": null,
            "height": null,
            "justify_content": null,
            "justify_items": null,
            "left": null,
            "margin": null,
            "max_height": null,
            "max_width": null,
            "min_height": null,
            "min_width": null,
            "object_fit": null,
            "object_position": null,
            "order": null,
            "overflow": null,
            "overflow_x": null,
            "overflow_y": null,
            "padding": null,
            "right": null,
            "top": null,
            "visibility": null,
            "width": null
          }
        },
        "57d5963807d4495eb4b46ac53d334c9a": {
          "model_module": "@jupyter-widgets/controls",
          "model_name": "DescriptionStyleModel",
          "model_module_version": "1.5.0",
          "state": {
            "_model_module": "@jupyter-widgets/controls",
            "_model_module_version": "1.5.0",
            "_model_name": "DescriptionStyleModel",
            "_view_count": null,
            "_view_module": "@jupyter-widgets/base",
            "_view_module_version": "1.2.0",
            "_view_name": "StyleView",
            "description_width": ""
          }
        },
        "75ffe91edcfd4eb68ed10a079730bad5": {
          "model_module": "@jupyter-widgets/base",
          "model_name": "LayoutModel",
          "model_module_version": "1.2.0",
          "state": {
            "_model_module": "@jupyter-widgets/base",
            "_model_module_version": "1.2.0",
            "_model_name": "LayoutModel",
            "_view_count": null,
            "_view_module": "@jupyter-widgets/base",
            "_view_module_version": "1.2.0",
            "_view_name": "LayoutView",
            "align_content": null,
            "align_items": null,
            "align_self": null,
            "border": null,
            "bottom": null,
            "display": null,
            "flex": null,
            "flex_flow": null,
            "grid_area": null,
            "grid_auto_columns": null,
            "grid_auto_flow": null,
            "grid_auto_rows": null,
            "grid_column": null,
            "grid_gap": null,
            "grid_row": null,
            "grid_template_areas": null,
            "grid_template_columns": null,
            "grid_template_rows": null,
            "height": null,
            "justify_content": null,
            "justify_items": null,
            "left": null,
            "margin": null,
            "max_height": null,
            "max_width": null,
            "min_height": null,
            "min_width": null,
            "object_fit": null,
            "object_position": null,
            "order": null,
            "overflow": null,
            "overflow_x": null,
            "overflow_y": null,
            "padding": null,
            "right": null,
            "top": null,
            "visibility": null,
            "width": null
          }
        },
        "548715e0eeaa4b94b4470d62fb80c5fd": {
          "model_module": "@jupyter-widgets/controls",
          "model_name": "ProgressStyleModel",
          "model_module_version": "1.5.0",
          "state": {
            "_model_module": "@jupyter-widgets/controls",
            "_model_module_version": "1.5.0",
            "_model_name": "ProgressStyleModel",
            "_view_count": null,
            "_view_module": "@jupyter-widgets/base",
            "_view_module_version": "1.2.0",
            "_view_name": "StyleView",
            "bar_color": null,
            "description_width": ""
          }
        },
        "f05e0b97eecf48779489f8a09510289f": {
          "model_module": "@jupyter-widgets/base",
          "model_name": "LayoutModel",
          "model_module_version": "1.2.0",
          "state": {
            "_model_module": "@jupyter-widgets/base",
            "_model_module_version": "1.2.0",
            "_model_name": "LayoutModel",
            "_view_count": null,
            "_view_module": "@jupyter-widgets/base",
            "_view_module_version": "1.2.0",
            "_view_name": "LayoutView",
            "align_content": null,
            "align_items": null,
            "align_self": null,
            "border": null,
            "bottom": null,
            "display": null,
            "flex": null,
            "flex_flow": null,
            "grid_area": null,
            "grid_auto_columns": null,
            "grid_auto_flow": null,
            "grid_auto_rows": null,
            "grid_column": null,
            "grid_gap": null,
            "grid_row": null,
            "grid_template_areas": null,
            "grid_template_columns": null,
            "grid_template_rows": null,
            "height": null,
            "justify_content": null,
            "justify_items": null,
            "left": null,
            "margin": null,
            "max_height": null,
            "max_width": null,
            "min_height": null,
            "min_width": null,
            "object_fit": null,
            "object_position": null,
            "order": null,
            "overflow": null,
            "overflow_x": null,
            "overflow_y": null,
            "padding": null,
            "right": null,
            "top": null,
            "visibility": null,
            "width": null
          }
        },
        "c842ea9b7ed64505b633031d1bcf1e06": {
          "model_module": "@jupyter-widgets/controls",
          "model_name": "DescriptionStyleModel",
          "model_module_version": "1.5.0",
          "state": {
            "_model_module": "@jupyter-widgets/controls",
            "_model_module_version": "1.5.0",
            "_model_name": "DescriptionStyleModel",
            "_view_count": null,
            "_view_module": "@jupyter-widgets/base",
            "_view_module_version": "1.2.0",
            "_view_name": "StyleView",
            "description_width": ""
          }
        },
        "7896a51d28e5402685f908bfba5a460c": {
          "model_module": "@jupyter-widgets/controls",
          "model_name": "HBoxModel",
          "model_module_version": "1.5.0",
          "state": {
            "_dom_classes": [],
            "_model_module": "@jupyter-widgets/controls",
            "_model_module_version": "1.5.0",
            "_model_name": "HBoxModel",
            "_view_count": null,
            "_view_module": "@jupyter-widgets/controls",
            "_view_module_version": "1.5.0",
            "_view_name": "HBoxView",
            "box_style": "",
            "children": [
              "IPY_MODEL_a02294ad6ba14dc4895435a56db33a16",
              "IPY_MODEL_895a021a662d4fc59588e783abc08689",
              "IPY_MODEL_41b4e18fb3d047339bdb5cf490d3697e"
            ],
            "layout": "IPY_MODEL_d3d776256c2d488d91f2093b461354ee"
          }
        },
        "a02294ad6ba14dc4895435a56db33a16": {
          "model_module": "@jupyter-widgets/controls",
          "model_name": "HTMLModel",
          "model_module_version": "1.5.0",
          "state": {
            "_dom_classes": [],
            "_model_module": "@jupyter-widgets/controls",
            "_model_module_version": "1.5.0",
            "_model_name": "HTMLModel",
            "_view_count": null,
            "_view_module": "@jupyter-widgets/controls",
            "_view_module_version": "1.5.0",
            "_view_name": "HTMLView",
            "description": "",
            "description_tooltip": null,
            "layout": "IPY_MODEL_53a87e68a3fa44ca8096e2d0593294b5",
            "placeholder": "​",
            "style": "IPY_MODEL_d2121f7a2485486c878687b5b64d1ed3",
            "value": "vocab.txt: "
          }
        },
        "895a021a662d4fc59588e783abc08689": {
          "model_module": "@jupyter-widgets/controls",
          "model_name": "FloatProgressModel",
          "model_module_version": "1.5.0",
          "state": {
            "_dom_classes": [],
            "_model_module": "@jupyter-widgets/controls",
            "_model_module_version": "1.5.0",
            "_model_name": "FloatProgressModel",
            "_view_count": null,
            "_view_module": "@jupyter-widgets/controls",
            "_view_module_version": "1.5.0",
            "_view_name": "ProgressView",
            "bar_style": "success",
            "description": "",
            "description_tooltip": null,
            "layout": "IPY_MODEL_e159122493db4e2eac28c8d8e4263968",
            "max": 1,
            "min": 0,
            "orientation": "horizontal",
            "style": "IPY_MODEL_9a7d84cb4a8f40bfa80bd3ef98e718ed",
            "value": 1
          }
        },
        "41b4e18fb3d047339bdb5cf490d3697e": {
          "model_module": "@jupyter-widgets/controls",
          "model_name": "HTMLModel",
          "model_module_version": "1.5.0",
          "state": {
            "_dom_classes": [],
            "_model_module": "@jupyter-widgets/controls",
            "_model_module_version": "1.5.0",
            "_model_name": "HTMLModel",
            "_view_count": null,
            "_view_module": "@jupyter-widgets/controls",
            "_view_module_version": "1.5.0",
            "_view_name": "HTMLView",
            "description": "",
            "description_tooltip": null,
            "layout": "IPY_MODEL_8c5356bf2b104c1982d1523bb6efdbb9",
            "placeholder": "​",
            "style": "IPY_MODEL_9fd871f4abda417b9175f486bea01d36",
            "value": " 232k/? [00:00&lt;00:00, 15.7MB/s]"
          }
        },
        "d3d776256c2d488d91f2093b461354ee": {
          "model_module": "@jupyter-widgets/base",
          "model_name": "LayoutModel",
          "model_module_version": "1.2.0",
          "state": {
            "_model_module": "@jupyter-widgets/base",
            "_model_module_version": "1.2.0",
            "_model_name": "LayoutModel",
            "_view_count": null,
            "_view_module": "@jupyter-widgets/base",
            "_view_module_version": "1.2.0",
            "_view_name": "LayoutView",
            "align_content": null,
            "align_items": null,
            "align_self": null,
            "border": null,
            "bottom": null,
            "display": null,
            "flex": null,
            "flex_flow": null,
            "grid_area": null,
            "grid_auto_columns": null,
            "grid_auto_flow": null,
            "grid_auto_rows": null,
            "grid_column": null,
            "grid_gap": null,
            "grid_row": null,
            "grid_template_areas": null,
            "grid_template_columns": null,
            "grid_template_rows": null,
            "height": null,
            "justify_content": null,
            "justify_items": null,
            "left": null,
            "margin": null,
            "max_height": null,
            "max_width": null,
            "min_height": null,
            "min_width": null,
            "object_fit": null,
            "object_position": null,
            "order": null,
            "overflow": null,
            "overflow_x": null,
            "overflow_y": null,
            "padding": null,
            "right": null,
            "top": null,
            "visibility": null,
            "width": null
          }
        },
        "53a87e68a3fa44ca8096e2d0593294b5": {
          "model_module": "@jupyter-widgets/base",
          "model_name": "LayoutModel",
          "model_module_version": "1.2.0",
          "state": {
            "_model_module": "@jupyter-widgets/base",
            "_model_module_version": "1.2.0",
            "_model_name": "LayoutModel",
            "_view_count": null,
            "_view_module": "@jupyter-widgets/base",
            "_view_module_version": "1.2.0",
            "_view_name": "LayoutView",
            "align_content": null,
            "align_items": null,
            "align_self": null,
            "border": null,
            "bottom": null,
            "display": null,
            "flex": null,
            "flex_flow": null,
            "grid_area": null,
            "grid_auto_columns": null,
            "grid_auto_flow": null,
            "grid_auto_rows": null,
            "grid_column": null,
            "grid_gap": null,
            "grid_row": null,
            "grid_template_areas": null,
            "grid_template_columns": null,
            "grid_template_rows": null,
            "height": null,
            "justify_content": null,
            "justify_items": null,
            "left": null,
            "margin": null,
            "max_height": null,
            "max_width": null,
            "min_height": null,
            "min_width": null,
            "object_fit": null,
            "object_position": null,
            "order": null,
            "overflow": null,
            "overflow_x": null,
            "overflow_y": null,
            "padding": null,
            "right": null,
            "top": null,
            "visibility": null,
            "width": null
          }
        },
        "d2121f7a2485486c878687b5b64d1ed3": {
          "model_module": "@jupyter-widgets/controls",
          "model_name": "DescriptionStyleModel",
          "model_module_version": "1.5.0",
          "state": {
            "_model_module": "@jupyter-widgets/controls",
            "_model_module_version": "1.5.0",
            "_model_name": "DescriptionStyleModel",
            "_view_count": null,
            "_view_module": "@jupyter-widgets/base",
            "_view_module_version": "1.2.0",
            "_view_name": "StyleView",
            "description_width": ""
          }
        },
        "e159122493db4e2eac28c8d8e4263968": {
          "model_module": "@jupyter-widgets/base",
          "model_name": "LayoutModel",
          "model_module_version": "1.2.0",
          "state": {
            "_model_module": "@jupyter-widgets/base",
            "_model_module_version": "1.2.0",
            "_model_name": "LayoutModel",
            "_view_count": null,
            "_view_module": "@jupyter-widgets/base",
            "_view_module_version": "1.2.0",
            "_view_name": "LayoutView",
            "align_content": null,
            "align_items": null,
            "align_self": null,
            "border": null,
            "bottom": null,
            "display": null,
            "flex": null,
            "flex_flow": null,
            "grid_area": null,
            "grid_auto_columns": null,
            "grid_auto_flow": null,
            "grid_auto_rows": null,
            "grid_column": null,
            "grid_gap": null,
            "grid_row": null,
            "grid_template_areas": null,
            "grid_template_columns": null,
            "grid_template_rows": null,
            "height": null,
            "justify_content": null,
            "justify_items": null,
            "left": null,
            "margin": null,
            "max_height": null,
            "max_width": null,
            "min_height": null,
            "min_width": null,
            "object_fit": null,
            "object_position": null,
            "order": null,
            "overflow": null,
            "overflow_x": null,
            "overflow_y": null,
            "padding": null,
            "right": null,
            "top": null,
            "visibility": null,
            "width": "20px"
          }
        },
        "9a7d84cb4a8f40bfa80bd3ef98e718ed": {
          "model_module": "@jupyter-widgets/controls",
          "model_name": "ProgressStyleModel",
          "model_module_version": "1.5.0",
          "state": {
            "_model_module": "@jupyter-widgets/controls",
            "_model_module_version": "1.5.0",
            "_model_name": "ProgressStyleModel",
            "_view_count": null,
            "_view_module": "@jupyter-widgets/base",
            "_view_module_version": "1.2.0",
            "_view_name": "StyleView",
            "bar_color": null,
            "description_width": ""
          }
        },
        "8c5356bf2b104c1982d1523bb6efdbb9": {
          "model_module": "@jupyter-widgets/base",
          "model_name": "LayoutModel",
          "model_module_version": "1.2.0",
          "state": {
            "_model_module": "@jupyter-widgets/base",
            "_model_module_version": "1.2.0",
            "_model_name": "LayoutModel",
            "_view_count": null,
            "_view_module": "@jupyter-widgets/base",
            "_view_module_version": "1.2.0",
            "_view_name": "LayoutView",
            "align_content": null,
            "align_items": null,
            "align_self": null,
            "border": null,
            "bottom": null,
            "display": null,
            "flex": null,
            "flex_flow": null,
            "grid_area": null,
            "grid_auto_columns": null,
            "grid_auto_flow": null,
            "grid_auto_rows": null,
            "grid_column": null,
            "grid_gap": null,
            "grid_row": null,
            "grid_template_areas": null,
            "grid_template_columns": null,
            "grid_template_rows": null,
            "height": null,
            "justify_content": null,
            "justify_items": null,
            "left": null,
            "margin": null,
            "max_height": null,
            "max_width": null,
            "min_height": null,
            "min_width": null,
            "object_fit": null,
            "object_position": null,
            "order": null,
            "overflow": null,
            "overflow_x": null,
            "overflow_y": null,
            "padding": null,
            "right": null,
            "top": null,
            "visibility": null,
            "width": null
          }
        },
        "9fd871f4abda417b9175f486bea01d36": {
          "model_module": "@jupyter-widgets/controls",
          "model_name": "DescriptionStyleModel",
          "model_module_version": "1.5.0",
          "state": {
            "_model_module": "@jupyter-widgets/controls",
            "_model_module_version": "1.5.0",
            "_model_name": "DescriptionStyleModel",
            "_view_count": null,
            "_view_module": "@jupyter-widgets/base",
            "_view_module_version": "1.2.0",
            "_view_name": "StyleView",
            "description_width": ""
          }
        },
        "9b32a915ee4449c08397c9b5a0d01b03": {
          "model_module": "@jupyter-widgets/controls",
          "model_name": "HBoxModel",
          "model_module_version": "1.5.0",
          "state": {
            "_dom_classes": [],
            "_model_module": "@jupyter-widgets/controls",
            "_model_module_version": "1.5.0",
            "_model_name": "HBoxModel",
            "_view_count": null,
            "_view_module": "@jupyter-widgets/controls",
            "_view_module_version": "1.5.0",
            "_view_name": "HBoxView",
            "box_style": "",
            "children": [
              "IPY_MODEL_9d17281dc21e48d89e3f8c808892c1e0",
              "IPY_MODEL_8cd745a17ad14378b2a473226f0909ea",
              "IPY_MODEL_099fea5a53f5461fb80466b9585d8bbb"
            ],
            "layout": "IPY_MODEL_fb2f440ca24f40a7a07d2528dfed256a"
          }
        },
        "9d17281dc21e48d89e3f8c808892c1e0": {
          "model_module": "@jupyter-widgets/controls",
          "model_name": "HTMLModel",
          "model_module_version": "1.5.0",
          "state": {
            "_dom_classes": [],
            "_model_module": "@jupyter-widgets/controls",
            "_model_module_version": "1.5.0",
            "_model_name": "HTMLModel",
            "_view_count": null,
            "_view_module": "@jupyter-widgets/controls",
            "_view_module_version": "1.5.0",
            "_view_name": "HTMLView",
            "description": "",
            "description_tooltip": null,
            "layout": "IPY_MODEL_42e9ffc11c8e41d98cd90aa82e6d1871",
            "placeholder": "​",
            "style": "IPY_MODEL_01f44c39869944679664d13b100c4292",
            "value": "tokenizer.json: "
          }
        },
        "8cd745a17ad14378b2a473226f0909ea": {
          "model_module": "@jupyter-widgets/controls",
          "model_name": "FloatProgressModel",
          "model_module_version": "1.5.0",
          "state": {
            "_dom_classes": [],
            "_model_module": "@jupyter-widgets/controls",
            "_model_module_version": "1.5.0",
            "_model_name": "FloatProgressModel",
            "_view_count": null,
            "_view_module": "@jupyter-widgets/controls",
            "_view_module_version": "1.5.0",
            "_view_name": "ProgressView",
            "bar_style": "success",
            "description": "",
            "description_tooltip": null,
            "layout": "IPY_MODEL_aa08f2f72cf548068a4dcac6908e6d57",
            "max": 1,
            "min": 0,
            "orientation": "horizontal",
            "style": "IPY_MODEL_e108992d71bd4743a13ad64acbf1431d",
            "value": 1
          }
        },
        "099fea5a53f5461fb80466b9585d8bbb": {
          "model_module": "@jupyter-widgets/controls",
          "model_name": "HTMLModel",
          "model_module_version": "1.5.0",
          "state": {
            "_dom_classes": [],
            "_model_module": "@jupyter-widgets/controls",
            "_model_module_version": "1.5.0",
            "_model_name": "HTMLModel",
            "_view_count": null,
            "_view_module": "@jupyter-widgets/controls",
            "_view_module_version": "1.5.0",
            "_view_name": "HTMLView",
            "description": "",
            "description_tooltip": null,
            "layout": "IPY_MODEL_449833acbcaf4ddc92080f32aa4cb8ec",
            "placeholder": "​",
            "style": "IPY_MODEL_3a1ed9534b9946e6ae50fb16946be49f",
            "value": " 711k/? [00:00&lt;00:00, 43.8MB/s]"
          }
        },
        "fb2f440ca24f40a7a07d2528dfed256a": {
          "model_module": "@jupyter-widgets/base",
          "model_name": "LayoutModel",
          "model_module_version": "1.2.0",
          "state": {
            "_model_module": "@jupyter-widgets/base",
            "_model_module_version": "1.2.0",
            "_model_name": "LayoutModel",
            "_view_count": null,
            "_view_module": "@jupyter-widgets/base",
            "_view_module_version": "1.2.0",
            "_view_name": "LayoutView",
            "align_content": null,
            "align_items": null,
            "align_self": null,
            "border": null,
            "bottom": null,
            "display": null,
            "flex": null,
            "flex_flow": null,
            "grid_area": null,
            "grid_auto_columns": null,
            "grid_auto_flow": null,
            "grid_auto_rows": null,
            "grid_column": null,
            "grid_gap": null,
            "grid_row": null,
            "grid_template_areas": null,
            "grid_template_columns": null,
            "grid_template_rows": null,
            "height": null,
            "justify_content": null,
            "justify_items": null,
            "left": null,
            "margin": null,
            "max_height": null,
            "max_width": null,
            "min_height": null,
            "min_width": null,
            "object_fit": null,
            "object_position": null,
            "order": null,
            "overflow": null,
            "overflow_x": null,
            "overflow_y": null,
            "padding": null,
            "right": null,
            "top": null,
            "visibility": null,
            "width": null
          }
        },
        "42e9ffc11c8e41d98cd90aa82e6d1871": {
          "model_module": "@jupyter-widgets/base",
          "model_name": "LayoutModel",
          "model_module_version": "1.2.0",
          "state": {
            "_model_module": "@jupyter-widgets/base",
            "_model_module_version": "1.2.0",
            "_model_name": "LayoutModel",
            "_view_count": null,
            "_view_module": "@jupyter-widgets/base",
            "_view_module_version": "1.2.0",
            "_view_name": "LayoutView",
            "align_content": null,
            "align_items": null,
            "align_self": null,
            "border": null,
            "bottom": null,
            "display": null,
            "flex": null,
            "flex_flow": null,
            "grid_area": null,
            "grid_auto_columns": null,
            "grid_auto_flow": null,
            "grid_auto_rows": null,
            "grid_column": null,
            "grid_gap": null,
            "grid_row": null,
            "grid_template_areas": null,
            "grid_template_columns": null,
            "grid_template_rows": null,
            "height": null,
            "justify_content": null,
            "justify_items": null,
            "left": null,
            "margin": null,
            "max_height": null,
            "max_width": null,
            "min_height": null,
            "min_width": null,
            "object_fit": null,
            "object_position": null,
            "order": null,
            "overflow": null,
            "overflow_x": null,
            "overflow_y": null,
            "padding": null,
            "right": null,
            "top": null,
            "visibility": null,
            "width": null
          }
        },
        "01f44c39869944679664d13b100c4292": {
          "model_module": "@jupyter-widgets/controls",
          "model_name": "DescriptionStyleModel",
          "model_module_version": "1.5.0",
          "state": {
            "_model_module": "@jupyter-widgets/controls",
            "_model_module_version": "1.5.0",
            "_model_name": "DescriptionStyleModel",
            "_view_count": null,
            "_view_module": "@jupyter-widgets/base",
            "_view_module_version": "1.2.0",
            "_view_name": "StyleView",
            "description_width": ""
          }
        },
        "aa08f2f72cf548068a4dcac6908e6d57": {
          "model_module": "@jupyter-widgets/base",
          "model_name": "LayoutModel",
          "model_module_version": "1.2.0",
          "state": {
            "_model_module": "@jupyter-widgets/base",
            "_model_module_version": "1.2.0",
            "_model_name": "LayoutModel",
            "_view_count": null,
            "_view_module": "@jupyter-widgets/base",
            "_view_module_version": "1.2.0",
            "_view_name": "LayoutView",
            "align_content": null,
            "align_items": null,
            "align_self": null,
            "border": null,
            "bottom": null,
            "display": null,
            "flex": null,
            "flex_flow": null,
            "grid_area": null,
            "grid_auto_columns": null,
            "grid_auto_flow": null,
            "grid_auto_rows": null,
            "grid_column": null,
            "grid_gap": null,
            "grid_row": null,
            "grid_template_areas": null,
            "grid_template_columns": null,
            "grid_template_rows": null,
            "height": null,
            "justify_content": null,
            "justify_items": null,
            "left": null,
            "margin": null,
            "max_height": null,
            "max_width": null,
            "min_height": null,
            "min_width": null,
            "object_fit": null,
            "object_position": null,
            "order": null,
            "overflow": null,
            "overflow_x": null,
            "overflow_y": null,
            "padding": null,
            "right": null,
            "top": null,
            "visibility": null,
            "width": "20px"
          }
        },
        "e108992d71bd4743a13ad64acbf1431d": {
          "model_module": "@jupyter-widgets/controls",
          "model_name": "ProgressStyleModel",
          "model_module_version": "1.5.0",
          "state": {
            "_model_module": "@jupyter-widgets/controls",
            "_model_module_version": "1.5.0",
            "_model_name": "ProgressStyleModel",
            "_view_count": null,
            "_view_module": "@jupyter-widgets/base",
            "_view_module_version": "1.2.0",
            "_view_name": "StyleView",
            "bar_color": null,
            "description_width": ""
          }
        },
        "449833acbcaf4ddc92080f32aa4cb8ec": {
          "model_module": "@jupyter-widgets/base",
          "model_name": "LayoutModel",
          "model_module_version": "1.2.0",
          "state": {
            "_model_module": "@jupyter-widgets/base",
            "_model_module_version": "1.2.0",
            "_model_name": "LayoutModel",
            "_view_count": null,
            "_view_module": "@jupyter-widgets/base",
            "_view_module_version": "1.2.0",
            "_view_name": "LayoutView",
            "align_content": null,
            "align_items": null,
            "align_self": null,
            "border": null,
            "bottom": null,
            "display": null,
            "flex": null,
            "flex_flow": null,
            "grid_area": null,
            "grid_auto_columns": null,
            "grid_auto_flow": null,
            "grid_auto_rows": null,
            "grid_column": null,
            "grid_gap": null,
            "grid_row": null,
            "grid_template_areas": null,
            "grid_template_columns": null,
            "grid_template_rows": null,
            "height": null,
            "justify_content": null,
            "justify_items": null,
            "left": null,
            "margin": null,
            "max_height": null,
            "max_width": null,
            "min_height": null,
            "min_width": null,
            "object_fit": null,
            "object_position": null,
            "order": null,
            "overflow": null,
            "overflow_x": null,
            "overflow_y": null,
            "padding": null,
            "right": null,
            "top": null,
            "visibility": null,
            "width": null
          }
        },
        "3a1ed9534b9946e6ae50fb16946be49f": {
          "model_module": "@jupyter-widgets/controls",
          "model_name": "DescriptionStyleModel",
          "model_module_version": "1.5.0",
          "state": {
            "_model_module": "@jupyter-widgets/controls",
            "_model_module_version": "1.5.0",
            "_model_name": "DescriptionStyleModel",
            "_view_count": null,
            "_view_module": "@jupyter-widgets/base",
            "_view_module_version": "1.2.0",
            "_view_name": "StyleView",
            "description_width": ""
          }
        },
        "19fd974cd3fe4022adb736a487d83597": {
          "model_module": "@jupyter-widgets/controls",
          "model_name": "HBoxModel",
          "model_module_version": "1.5.0",
          "state": {
            "_dom_classes": [],
            "_model_module": "@jupyter-widgets/controls",
            "_model_module_version": "1.5.0",
            "_model_name": "HBoxModel",
            "_view_count": null,
            "_view_module": "@jupyter-widgets/controls",
            "_view_module_version": "1.5.0",
            "_view_name": "HBoxView",
            "box_style": "",
            "children": [
              "IPY_MODEL_c2fa17dde5a047dc965cc1c74c024515",
              "IPY_MODEL_5318398a0f754211b9f642eda9c1b050",
              "IPY_MODEL_d7bde000068b40dc93ad719a4fb979a6"
            ],
            "layout": "IPY_MODEL_038c957019264c1daace01487d92e8ad"
          }
        },
        "c2fa17dde5a047dc965cc1c74c024515": {
          "model_module": "@jupyter-widgets/controls",
          "model_name": "HTMLModel",
          "model_module_version": "1.5.0",
          "state": {
            "_dom_classes": [],
            "_model_module": "@jupyter-widgets/controls",
            "_model_module_version": "1.5.0",
            "_model_name": "HTMLModel",
            "_view_count": null,
            "_view_module": "@jupyter-widgets/controls",
            "_view_module_version": "1.5.0",
            "_view_name": "HTMLView",
            "description": "",
            "description_tooltip": null,
            "layout": "IPY_MODEL_b7e88d5e790b4a87977bf2519e9624bb",
            "placeholder": "​",
            "style": "IPY_MODEL_a49fab436d4d46789e470b83ad013180",
            "value": "special_tokens_map.json: 100%"
          }
        },
        "5318398a0f754211b9f642eda9c1b050": {
          "model_module": "@jupyter-widgets/controls",
          "model_name": "FloatProgressModel",
          "model_module_version": "1.5.0",
          "state": {
            "_dom_classes": [],
            "_model_module": "@jupyter-widgets/controls",
            "_model_module_version": "1.5.0",
            "_model_name": "FloatProgressModel",
            "_view_count": null,
            "_view_module": "@jupyter-widgets/controls",
            "_view_module_version": "1.5.0",
            "_view_name": "ProgressView",
            "bar_style": "success",
            "description": "",
            "description_tooltip": null,
            "layout": "IPY_MODEL_c6fb3cf2d6bd45b6817df60fce4b9100",
            "max": 125,
            "min": 0,
            "orientation": "horizontal",
            "style": "IPY_MODEL_6a443a8c4fa944afb0b65997b88ef78f",
            "value": 125
          }
        },
        "d7bde000068b40dc93ad719a4fb979a6": {
          "model_module": "@jupyter-widgets/controls",
          "model_name": "HTMLModel",
          "model_module_version": "1.5.0",
          "state": {
            "_dom_classes": [],
            "_model_module": "@jupyter-widgets/controls",
            "_model_module_version": "1.5.0",
            "_model_name": "HTMLModel",
            "_view_count": null,
            "_view_module": "@jupyter-widgets/controls",
            "_view_module_version": "1.5.0",
            "_view_name": "HTMLView",
            "description": "",
            "description_tooltip": null,
            "layout": "IPY_MODEL_9b0c02741ece4b3bb1d56bd8c2d47624",
            "placeholder": "​",
            "style": "IPY_MODEL_779bd7c0fe584eed87a0c71f8979c371",
            "value": " 125/125 [00:00&lt;00:00, 14.7kB/s]"
          }
        },
        "038c957019264c1daace01487d92e8ad": {
          "model_module": "@jupyter-widgets/base",
          "model_name": "LayoutModel",
          "model_module_version": "1.2.0",
          "state": {
            "_model_module": "@jupyter-widgets/base",
            "_model_module_version": "1.2.0",
            "_model_name": "LayoutModel",
            "_view_count": null,
            "_view_module": "@jupyter-widgets/base",
            "_view_module_version": "1.2.0",
            "_view_name": "LayoutView",
            "align_content": null,
            "align_items": null,
            "align_self": null,
            "border": null,
            "bottom": null,
            "display": null,
            "flex": null,
            "flex_flow": null,
            "grid_area": null,
            "grid_auto_columns": null,
            "grid_auto_flow": null,
            "grid_auto_rows": null,
            "grid_column": null,
            "grid_gap": null,
            "grid_row": null,
            "grid_template_areas": null,
            "grid_template_columns": null,
            "grid_template_rows": null,
            "height": null,
            "justify_content": null,
            "justify_items": null,
            "left": null,
            "margin": null,
            "max_height": null,
            "max_width": null,
            "min_height": null,
            "min_width": null,
            "object_fit": null,
            "object_position": null,
            "order": null,
            "overflow": null,
            "overflow_x": null,
            "overflow_y": null,
            "padding": null,
            "right": null,
            "top": null,
            "visibility": null,
            "width": null
          }
        },
        "b7e88d5e790b4a87977bf2519e9624bb": {
          "model_module": "@jupyter-widgets/base",
          "model_name": "LayoutModel",
          "model_module_version": "1.2.0",
          "state": {
            "_model_module": "@jupyter-widgets/base",
            "_model_module_version": "1.2.0",
            "_model_name": "LayoutModel",
            "_view_count": null,
            "_view_module": "@jupyter-widgets/base",
            "_view_module_version": "1.2.0",
            "_view_name": "LayoutView",
            "align_content": null,
            "align_items": null,
            "align_self": null,
            "border": null,
            "bottom": null,
            "display": null,
            "flex": null,
            "flex_flow": null,
            "grid_area": null,
            "grid_auto_columns": null,
            "grid_auto_flow": null,
            "grid_auto_rows": null,
            "grid_column": null,
            "grid_gap": null,
            "grid_row": null,
            "grid_template_areas": null,
            "grid_template_columns": null,
            "grid_template_rows": null,
            "height": null,
            "justify_content": null,
            "justify_items": null,
            "left": null,
            "margin": null,
            "max_height": null,
            "max_width": null,
            "min_height": null,
            "min_width": null,
            "object_fit": null,
            "object_position": null,
            "order": null,
            "overflow": null,
            "overflow_x": null,
            "overflow_y": null,
            "padding": null,
            "right": null,
            "top": null,
            "visibility": null,
            "width": null
          }
        },
        "a49fab436d4d46789e470b83ad013180": {
          "model_module": "@jupyter-widgets/controls",
          "model_name": "DescriptionStyleModel",
          "model_module_version": "1.5.0",
          "state": {
            "_model_module": "@jupyter-widgets/controls",
            "_model_module_version": "1.5.0",
            "_model_name": "DescriptionStyleModel",
            "_view_count": null,
            "_view_module": "@jupyter-widgets/base",
            "_view_module_version": "1.2.0",
            "_view_name": "StyleView",
            "description_width": ""
          }
        },
        "c6fb3cf2d6bd45b6817df60fce4b9100": {
          "model_module": "@jupyter-widgets/base",
          "model_name": "LayoutModel",
          "model_module_version": "1.2.0",
          "state": {
            "_model_module": "@jupyter-widgets/base",
            "_model_module_version": "1.2.0",
            "_model_name": "LayoutModel",
            "_view_count": null,
            "_view_module": "@jupyter-widgets/base",
            "_view_module_version": "1.2.0",
            "_view_name": "LayoutView",
            "align_content": null,
            "align_items": null,
            "align_self": null,
            "border": null,
            "bottom": null,
            "display": null,
            "flex": null,
            "flex_flow": null,
            "grid_area": null,
            "grid_auto_columns": null,
            "grid_auto_flow": null,
            "grid_auto_rows": null,
            "grid_column": null,
            "grid_gap": null,
            "grid_row": null,
            "grid_template_areas": null,
            "grid_template_columns": null,
            "grid_template_rows": null,
            "height": null,
            "justify_content": null,
            "justify_items": null,
            "left": null,
            "margin": null,
            "max_height": null,
            "max_width": null,
            "min_height": null,
            "min_width": null,
            "object_fit": null,
            "object_position": null,
            "order": null,
            "overflow": null,
            "overflow_x": null,
            "overflow_y": null,
            "padding": null,
            "right": null,
            "top": null,
            "visibility": null,
            "width": null
          }
        },
        "6a443a8c4fa944afb0b65997b88ef78f": {
          "model_module": "@jupyter-widgets/controls",
          "model_name": "ProgressStyleModel",
          "model_module_version": "1.5.0",
          "state": {
            "_model_module": "@jupyter-widgets/controls",
            "_model_module_version": "1.5.0",
            "_model_name": "ProgressStyleModel",
            "_view_count": null,
            "_view_module": "@jupyter-widgets/base",
            "_view_module_version": "1.2.0",
            "_view_name": "StyleView",
            "bar_color": null,
            "description_width": ""
          }
        },
        "9b0c02741ece4b3bb1d56bd8c2d47624": {
          "model_module": "@jupyter-widgets/base",
          "model_name": "LayoutModel",
          "model_module_version": "1.2.0",
          "state": {
            "_model_module": "@jupyter-widgets/base",
            "_model_module_version": "1.2.0",
            "_model_name": "LayoutModel",
            "_view_count": null,
            "_view_module": "@jupyter-widgets/base",
            "_view_module_version": "1.2.0",
            "_view_name": "LayoutView",
            "align_content": null,
            "align_items": null,
            "align_self": null,
            "border": null,
            "bottom": null,
            "display": null,
            "flex": null,
            "flex_flow": null,
            "grid_area": null,
            "grid_auto_columns": null,
            "grid_auto_flow": null,
            "grid_auto_rows": null,
            "grid_column": null,
            "grid_gap": null,
            "grid_row": null,
            "grid_template_areas": null,
            "grid_template_columns": null,
            "grid_template_rows": null,
            "height": null,
            "justify_content": null,
            "justify_items": null,
            "left": null,
            "margin": null,
            "max_height": null,
            "max_width": null,
            "min_height": null,
            "min_width": null,
            "object_fit": null,
            "object_position": null,
            "order": null,
            "overflow": null,
            "overflow_x": null,
            "overflow_y": null,
            "padding": null,
            "right": null,
            "top": null,
            "visibility": null,
            "width": null
          }
        },
        "779bd7c0fe584eed87a0c71f8979c371": {
          "model_module": "@jupyter-widgets/controls",
          "model_name": "DescriptionStyleModel",
          "model_module_version": "1.5.0",
          "state": {
            "_model_module": "@jupyter-widgets/controls",
            "_model_module_version": "1.5.0",
            "_model_name": "DescriptionStyleModel",
            "_view_count": null,
            "_view_module": "@jupyter-widgets/base",
            "_view_module_version": "1.2.0",
            "_view_name": "StyleView",
            "description_width": ""
          }
        },
        "1b75e6c4de674c7784dfce6409214f87": {
          "model_module": "@jupyter-widgets/controls",
          "model_name": "HBoxModel",
          "model_module_version": "1.5.0",
          "state": {
            "_dom_classes": [],
            "_model_module": "@jupyter-widgets/controls",
            "_model_module_version": "1.5.0",
            "_model_name": "HBoxModel",
            "_view_count": null,
            "_view_module": "@jupyter-widgets/controls",
            "_view_module_version": "1.5.0",
            "_view_name": "HBoxView",
            "box_style": "",
            "children": [
              "IPY_MODEL_0e273bf9248d49058321c8956ba521e9",
              "IPY_MODEL_6d4203acb8184ded881b3c4f332e082e",
              "IPY_MODEL_896cbdaa5cd141808e0d0c2fcb9739fd"
            ],
            "layout": "IPY_MODEL_eaed584067854cdf961df9af129cf8c2"
          }
        },
        "0e273bf9248d49058321c8956ba521e9": {
          "model_module": "@jupyter-widgets/controls",
          "model_name": "HTMLModel",
          "model_module_version": "1.5.0",
          "state": {
            "_dom_classes": [],
            "_model_module": "@jupyter-widgets/controls",
            "_model_module_version": "1.5.0",
            "_model_name": "HTMLModel",
            "_view_count": null,
            "_view_module": "@jupyter-widgets/controls",
            "_view_module_version": "1.5.0",
            "_view_name": "HTMLView",
            "description": "",
            "description_tooltip": null,
            "layout": "IPY_MODEL_34d79cc9bdb4421a898625ed941445f7",
            "placeholder": "​",
            "style": "IPY_MODEL_ad8fde50c7c84fa18412adfc68611d11",
            "value": "config.json: "
          }
        },
        "6d4203acb8184ded881b3c4f332e082e": {
          "model_module": "@jupyter-widgets/controls",
          "model_name": "FloatProgressModel",
          "model_module_version": "1.5.0",
          "state": {
            "_dom_classes": [],
            "_model_module": "@jupyter-widgets/controls",
            "_model_module_version": "1.5.0",
            "_model_name": "FloatProgressModel",
            "_view_count": null,
            "_view_module": "@jupyter-widgets/controls",
            "_view_module_version": "1.5.0",
            "_view_name": "ProgressView",
            "bar_style": "success",
            "description": "",
            "description_tooltip": null,
            "layout": "IPY_MODEL_1198a22faf454708ba2fd1922df91227",
            "max": 1,
            "min": 0,
            "orientation": "horizontal",
            "style": "IPY_MODEL_d9470e8cb0984a59817e189b35ec4d63",
            "value": 1
          }
        },
        "896cbdaa5cd141808e0d0c2fcb9739fd": {
          "model_module": "@jupyter-widgets/controls",
          "model_name": "HTMLModel",
          "model_module_version": "1.5.0",
          "state": {
            "_dom_classes": [],
            "_model_module": "@jupyter-widgets/controls",
            "_model_module_version": "1.5.0",
            "_model_name": "HTMLModel",
            "_view_count": null,
            "_view_module": "@jupyter-widgets/controls",
            "_view_module_version": "1.5.0",
            "_view_name": "HTMLView",
            "description": "",
            "description_tooltip": null,
            "layout": "IPY_MODEL_6b834b4f7521471f93fe1bbb087ccd8e",
            "placeholder": "​",
            "style": "IPY_MODEL_648d2371befd47ec960152e6953460eb",
            "value": " 4.56k/? [00:00&lt;00:00, 217kB/s]"
          }
        },
        "eaed584067854cdf961df9af129cf8c2": {
          "model_module": "@jupyter-widgets/base",
          "model_name": "LayoutModel",
          "model_module_version": "1.2.0",
          "state": {
            "_model_module": "@jupyter-widgets/base",
            "_model_module_version": "1.2.0",
            "_model_name": "LayoutModel",
            "_view_count": null,
            "_view_module": "@jupyter-widgets/base",
            "_view_module_version": "1.2.0",
            "_view_name": "LayoutView",
            "align_content": null,
            "align_items": null,
            "align_self": null,
            "border": null,
            "bottom": null,
            "display": null,
            "flex": null,
            "flex_flow": null,
            "grid_area": null,
            "grid_auto_columns": null,
            "grid_auto_flow": null,
            "grid_auto_rows": null,
            "grid_column": null,
            "grid_gap": null,
            "grid_row": null,
            "grid_template_areas": null,
            "grid_template_columns": null,
            "grid_template_rows": null,
            "height": null,
            "justify_content": null,
            "justify_items": null,
            "left": null,
            "margin": null,
            "max_height": null,
            "max_width": null,
            "min_height": null,
            "min_width": null,
            "object_fit": null,
            "object_position": null,
            "order": null,
            "overflow": null,
            "overflow_x": null,
            "overflow_y": null,
            "padding": null,
            "right": null,
            "top": null,
            "visibility": null,
            "width": null
          }
        },
        "34d79cc9bdb4421a898625ed941445f7": {
          "model_module": "@jupyter-widgets/base",
          "model_name": "LayoutModel",
          "model_module_version": "1.2.0",
          "state": {
            "_model_module": "@jupyter-widgets/base",
            "_model_module_version": "1.2.0",
            "_model_name": "LayoutModel",
            "_view_count": null,
            "_view_module": "@jupyter-widgets/base",
            "_view_module_version": "1.2.0",
            "_view_name": "LayoutView",
            "align_content": null,
            "align_items": null,
            "align_self": null,
            "border": null,
            "bottom": null,
            "display": null,
            "flex": null,
            "flex_flow": null,
            "grid_area": null,
            "grid_auto_columns": null,
            "grid_auto_flow": null,
            "grid_auto_rows": null,
            "grid_column": null,
            "grid_gap": null,
            "grid_row": null,
            "grid_template_areas": null,
            "grid_template_columns": null,
            "grid_template_rows": null,
            "height": null,
            "justify_content": null,
            "justify_items": null,
            "left": null,
            "margin": null,
            "max_height": null,
            "max_width": null,
            "min_height": null,
            "min_width": null,
            "object_fit": null,
            "object_position": null,
            "order": null,
            "overflow": null,
            "overflow_x": null,
            "overflow_y": null,
            "padding": null,
            "right": null,
            "top": null,
            "visibility": null,
            "width": null
          }
        },
        "ad8fde50c7c84fa18412adfc68611d11": {
          "model_module": "@jupyter-widgets/controls",
          "model_name": "DescriptionStyleModel",
          "model_module_version": "1.5.0",
          "state": {
            "_model_module": "@jupyter-widgets/controls",
            "_model_module_version": "1.5.0",
            "_model_name": "DescriptionStyleModel",
            "_view_count": null,
            "_view_module": "@jupyter-widgets/base",
            "_view_module_version": "1.2.0",
            "_view_name": "StyleView",
            "description_width": ""
          }
        },
        "1198a22faf454708ba2fd1922df91227": {
          "model_module": "@jupyter-widgets/base",
          "model_name": "LayoutModel",
          "model_module_version": "1.2.0",
          "state": {
            "_model_module": "@jupyter-widgets/base",
            "_model_module_version": "1.2.0",
            "_model_name": "LayoutModel",
            "_view_count": null,
            "_view_module": "@jupyter-widgets/base",
            "_view_module_version": "1.2.0",
            "_view_name": "LayoutView",
            "align_content": null,
            "align_items": null,
            "align_self": null,
            "border": null,
            "bottom": null,
            "display": null,
            "flex": null,
            "flex_flow": null,
            "grid_area": null,
            "grid_auto_columns": null,
            "grid_auto_flow": null,
            "grid_auto_rows": null,
            "grid_column": null,
            "grid_gap": null,
            "grid_row": null,
            "grid_template_areas": null,
            "grid_template_columns": null,
            "grid_template_rows": null,
            "height": null,
            "justify_content": null,
            "justify_items": null,
            "left": null,
            "margin": null,
            "max_height": null,
            "max_width": null,
            "min_height": null,
            "min_width": null,
            "object_fit": null,
            "object_position": null,
            "order": null,
            "overflow": null,
            "overflow_x": null,
            "overflow_y": null,
            "padding": null,
            "right": null,
            "top": null,
            "visibility": null,
            "width": "20px"
          }
        },
        "d9470e8cb0984a59817e189b35ec4d63": {
          "model_module": "@jupyter-widgets/controls",
          "model_name": "ProgressStyleModel",
          "model_module_version": "1.5.0",
          "state": {
            "_model_module": "@jupyter-widgets/controls",
            "_model_module_version": "1.5.0",
            "_model_name": "ProgressStyleModel",
            "_view_count": null,
            "_view_module": "@jupyter-widgets/base",
            "_view_module_version": "1.2.0",
            "_view_name": "StyleView",
            "bar_color": null,
            "description_width": ""
          }
        },
        "6b834b4f7521471f93fe1bbb087ccd8e": {
          "model_module": "@jupyter-widgets/base",
          "model_name": "LayoutModel",
          "model_module_version": "1.2.0",
          "state": {
            "_model_module": "@jupyter-widgets/base",
            "_model_module_version": "1.2.0",
            "_model_name": "LayoutModel",
            "_view_count": null,
            "_view_module": "@jupyter-widgets/base",
            "_view_module_version": "1.2.0",
            "_view_name": "LayoutView",
            "align_content": null,
            "align_items": null,
            "align_self": null,
            "border": null,
            "bottom": null,
            "display": null,
            "flex": null,
            "flex_flow": null,
            "grid_area": null,
            "grid_auto_columns": null,
            "grid_auto_flow": null,
            "grid_auto_rows": null,
            "grid_column": null,
            "grid_gap": null,
            "grid_row": null,
            "grid_template_areas": null,
            "grid_template_columns": null,
            "grid_template_rows": null,
            "height": null,
            "justify_content": null,
            "justify_items": null,
            "left": null,
            "margin": null,
            "max_height": null,
            "max_width": null,
            "min_height": null,
            "min_width": null,
            "object_fit": null,
            "object_position": null,
            "order": null,
            "overflow": null,
            "overflow_x": null,
            "overflow_y": null,
            "padding": null,
            "right": null,
            "top": null,
            "visibility": null,
            "width": null
          }
        },
        "648d2371befd47ec960152e6953460eb": {
          "model_module": "@jupyter-widgets/controls",
          "model_name": "DescriptionStyleModel",
          "model_module_version": "1.5.0",
          "state": {
            "_model_module": "@jupyter-widgets/controls",
            "_model_module_version": "1.5.0",
            "_model_name": "DescriptionStyleModel",
            "_view_count": null,
            "_view_module": "@jupyter-widgets/base",
            "_view_module_version": "1.2.0",
            "_view_name": "StyleView",
            "description_width": ""
          }
        },
        "68b3cabe9bff46d480d6ab45d1452bb3": {
          "model_module": "@jupyter-widgets/controls",
          "model_name": "HBoxModel",
          "model_module_version": "1.5.0",
          "state": {
            "_dom_classes": [],
            "_model_module": "@jupyter-widgets/controls",
            "_model_module_version": "1.5.0",
            "_model_name": "HBoxModel",
            "_view_count": null,
            "_view_module": "@jupyter-widgets/controls",
            "_view_module_version": "1.5.0",
            "_view_name": "HBoxView",
            "box_style": "",
            "children": [
              "IPY_MODEL_85b66b7c66514b988b5fd4e57af8f3cf",
              "IPY_MODEL_5bd6e332ce0542878ad40482ccac09c2",
              "IPY_MODEL_6c98267da632444c8d09efa271dff698"
            ],
            "layout": "IPY_MODEL_eaf69c741f78424ea6447b8cde5b008f"
          }
        },
        "85b66b7c66514b988b5fd4e57af8f3cf": {
          "model_module": "@jupyter-widgets/controls",
          "model_name": "HTMLModel",
          "model_module_version": "1.5.0",
          "state": {
            "_dom_classes": [],
            "_model_module": "@jupyter-widgets/controls",
            "_model_module_version": "1.5.0",
            "_model_name": "HTMLModel",
            "_view_count": null,
            "_view_module": "@jupyter-widgets/controls",
            "_view_module_version": "1.5.0",
            "_view_name": "HTMLView",
            "description": "",
            "description_tooltip": null,
            "layout": "IPY_MODEL_4eccf6f7bf7a4deabcb64fd5f3ef38d0",
            "placeholder": "​",
            "style": "IPY_MODEL_a7d0434c2baf46dca43d69b94c537a13",
            "value": "pytorch_model.bin: 100%"
          }
        },
        "5bd6e332ce0542878ad40482ccac09c2": {
          "model_module": "@jupyter-widgets/controls",
          "model_name": "FloatProgressModel",
          "model_module_version": "1.5.0",
          "state": {
            "_dom_classes": [],
            "_model_module": "@jupyter-widgets/controls",
            "_model_module_version": "1.5.0",
            "_model_name": "FloatProgressModel",
            "_view_count": null,
            "_view_module": "@jupyter-widgets/controls",
            "_view_module_version": "1.5.0",
            "_view_name": "ProgressView",
            "bar_style": "success",
            "description": "",
            "description_tooltip": null,
            "layout": "IPY_MODEL_9ed1dc2445e64430b21fa9a1a006060e",
            "max": 989820849,
            "min": 0,
            "orientation": "horizontal",
            "style": "IPY_MODEL_c5c24f9257fa4507862ace1cda36f3e8",
            "value": 989820849
          }
        },
        "6c98267da632444c8d09efa271dff698": {
          "model_module": "@jupyter-widgets/controls",
          "model_name": "HTMLModel",
          "model_module_version": "1.5.0",
          "state": {
            "_dom_classes": [],
            "_model_module": "@jupyter-widgets/controls",
            "_model_module_version": "1.5.0",
            "_model_name": "HTMLModel",
            "_view_count": null,
            "_view_module": "@jupyter-widgets/controls",
            "_view_module_version": "1.5.0",
            "_view_name": "HTMLView",
            "description": "",
            "description_tooltip": null,
            "layout": "IPY_MODEL_c4627d2abf384a5197324159297ca7ae",
            "placeholder": "​",
            "style": "IPY_MODEL_b6e6d780022f437aae21395125108695",
            "value": " 990M/990M [01:17&lt;00:00, 8.77MB/s]"
          }
        },
        "eaf69c741f78424ea6447b8cde5b008f": {
          "model_module": "@jupyter-widgets/base",
          "model_name": "LayoutModel",
          "model_module_version": "1.2.0",
          "state": {
            "_model_module": "@jupyter-widgets/base",
            "_model_module_version": "1.2.0",
            "_model_name": "LayoutModel",
            "_view_count": null,
            "_view_module": "@jupyter-widgets/base",
            "_view_module_version": "1.2.0",
            "_view_name": "LayoutView",
            "align_content": null,
            "align_items": null,
            "align_self": null,
            "border": null,
            "bottom": null,
            "display": null,
            "flex": null,
            "flex_flow": null,
            "grid_area": null,
            "grid_auto_columns": null,
            "grid_auto_flow": null,
            "grid_auto_rows": null,
            "grid_column": null,
            "grid_gap": null,
            "grid_row": null,
            "grid_template_areas": null,
            "grid_template_columns": null,
            "grid_template_rows": null,
            "height": null,
            "justify_content": null,
            "justify_items": null,
            "left": null,
            "margin": null,
            "max_height": null,
            "max_width": null,
            "min_height": null,
            "min_width": null,
            "object_fit": null,
            "object_position": null,
            "order": null,
            "overflow": null,
            "overflow_x": null,
            "overflow_y": null,
            "padding": null,
            "right": null,
            "top": null,
            "visibility": null,
            "width": null
          }
        },
        "4eccf6f7bf7a4deabcb64fd5f3ef38d0": {
          "model_module": "@jupyter-widgets/base",
          "model_name": "LayoutModel",
          "model_module_version": "1.2.0",
          "state": {
            "_model_module": "@jupyter-widgets/base",
            "_model_module_version": "1.2.0",
            "_model_name": "LayoutModel",
            "_view_count": null,
            "_view_module": "@jupyter-widgets/base",
            "_view_module_version": "1.2.0",
            "_view_name": "LayoutView",
            "align_content": null,
            "align_items": null,
            "align_self": null,
            "border": null,
            "bottom": null,
            "display": null,
            "flex": null,
            "flex_flow": null,
            "grid_area": null,
            "grid_auto_columns": null,
            "grid_auto_flow": null,
            "grid_auto_rows": null,
            "grid_column": null,
            "grid_gap": null,
            "grid_row": null,
            "grid_template_areas": null,
            "grid_template_columns": null,
            "grid_template_rows": null,
            "height": null,
            "justify_content": null,
            "justify_items": null,
            "left": null,
            "margin": null,
            "max_height": null,
            "max_width": null,
            "min_height": null,
            "min_width": null,
            "object_fit": null,
            "object_position": null,
            "order": null,
            "overflow": null,
            "overflow_x": null,
            "overflow_y": null,
            "padding": null,
            "right": null,
            "top": null,
            "visibility": null,
            "width": null
          }
        },
        "a7d0434c2baf46dca43d69b94c537a13": {
          "model_module": "@jupyter-widgets/controls",
          "model_name": "DescriptionStyleModel",
          "model_module_version": "1.5.0",
          "state": {
            "_model_module": "@jupyter-widgets/controls",
            "_model_module_version": "1.5.0",
            "_model_name": "DescriptionStyleModel",
            "_view_count": null,
            "_view_module": "@jupyter-widgets/base",
            "_view_module_version": "1.2.0",
            "_view_name": "StyleView",
            "description_width": ""
          }
        },
        "9ed1dc2445e64430b21fa9a1a006060e": {
          "model_module": "@jupyter-widgets/base",
          "model_name": "LayoutModel",
          "model_module_version": "1.2.0",
          "state": {
            "_model_module": "@jupyter-widgets/base",
            "_model_module_version": "1.2.0",
            "_model_name": "LayoutModel",
            "_view_count": null,
            "_view_module": "@jupyter-widgets/base",
            "_view_module_version": "1.2.0",
            "_view_name": "LayoutView",
            "align_content": null,
            "align_items": null,
            "align_self": null,
            "border": null,
            "bottom": null,
            "display": null,
            "flex": null,
            "flex_flow": null,
            "grid_area": null,
            "grid_auto_columns": null,
            "grid_auto_flow": null,
            "grid_auto_rows": null,
            "grid_column": null,
            "grid_gap": null,
            "grid_row": null,
            "grid_template_areas": null,
            "grid_template_columns": null,
            "grid_template_rows": null,
            "height": null,
            "justify_content": null,
            "justify_items": null,
            "left": null,
            "margin": null,
            "max_height": null,
            "max_width": null,
            "min_height": null,
            "min_width": null,
            "object_fit": null,
            "object_position": null,
            "order": null,
            "overflow": null,
            "overflow_x": null,
            "overflow_y": null,
            "padding": null,
            "right": null,
            "top": null,
            "visibility": null,
            "width": null
          }
        },
        "c5c24f9257fa4507862ace1cda36f3e8": {
          "model_module": "@jupyter-widgets/controls",
          "model_name": "ProgressStyleModel",
          "model_module_version": "1.5.0",
          "state": {
            "_model_module": "@jupyter-widgets/controls",
            "_model_module_version": "1.5.0",
            "_model_name": "ProgressStyleModel",
            "_view_count": null,
            "_view_module": "@jupyter-widgets/base",
            "_view_module_version": "1.2.0",
            "_view_name": "StyleView",
            "bar_color": null,
            "description_width": ""
          }
        },
        "c4627d2abf384a5197324159297ca7ae": {
          "model_module": "@jupyter-widgets/base",
          "model_name": "LayoutModel",
          "model_module_version": "1.2.0",
          "state": {
            "_model_module": "@jupyter-widgets/base",
            "_model_module_version": "1.2.0",
            "_model_name": "LayoutModel",
            "_view_count": null,
            "_view_module": "@jupyter-widgets/base",
            "_view_module_version": "1.2.0",
            "_view_name": "LayoutView",
            "align_content": null,
            "align_items": null,
            "align_self": null,
            "border": null,
            "bottom": null,
            "display": null,
            "flex": null,
            "flex_flow": null,
            "grid_area": null,
            "grid_auto_columns": null,
            "grid_auto_flow": null,
            "grid_auto_rows": null,
            "grid_column": null,
            "grid_gap": null,
            "grid_row": null,
            "grid_template_areas": null,
            "grid_template_columns": null,
            "grid_template_rows": null,
            "height": null,
            "justify_content": null,
            "justify_items": null,
            "left": null,
            "margin": null,
            "max_height": null,
            "max_width": null,
            "min_height": null,
            "min_width": null,
            "object_fit": null,
            "object_position": null,
            "order": null,
            "overflow": null,
            "overflow_x": null,
            "overflow_y": null,
            "padding": null,
            "right": null,
            "top": null,
            "visibility": null,
            "width": null
          }
        },
        "b6e6d780022f437aae21395125108695": {
          "model_module": "@jupyter-widgets/controls",
          "model_name": "DescriptionStyleModel",
          "model_module_version": "1.5.0",
          "state": {
            "_model_module": "@jupyter-widgets/controls",
            "_model_module_version": "1.5.0",
            "_model_name": "DescriptionStyleModel",
            "_view_count": null,
            "_view_module": "@jupyter-widgets/base",
            "_view_module_version": "1.2.0",
            "_view_name": "StyleView",
            "description_width": ""
          }
        }
      }
    }
  },
  "nbformat": 4,
  "nbformat_minor": 0
}